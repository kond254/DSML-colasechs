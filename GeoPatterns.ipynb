{
 "cells": [
  {
   "cell_type": "markdown",
   "metadata": {},
   "source": [
    "# Geo Patterns from Boston 2015 Bluebikes"
   ]
  },
  {
   "cell_type": "markdown",
   "metadata": {},
   "source": [
    "First we need to import all important libraries"
   ]
  },
  {
   "cell_type": "code",
   "execution_count": null,
   "metadata": {},
   "outputs": [],
   "source": [
    "import numpy as np\n",
    "import pandas as pd\n",
    "from datetime import date, time, datetime, timedelta \n",
    "from dateutil import parser\n",
    "import matplotlib.pyplot as plt\n",
    "import seaborn as sns\n",
    "import folium\n",
    "from folium import plugins\n",
    "from folium.plugins import HeatMap\n",
    "import math\n",
    "import random\n",
    "import timeit\n",
    "\n",
    "import warnings\n",
    "warnings.filterwarnings(\"ignore\")"
   ]
  },
  {
   "cell_type": "markdown",
   "metadata": {},
   "source": [
    "## Prepare data"
   ]
  },
  {
   "cell_type": "markdown",
   "metadata": {},
   "source": [
    "read in original dataset from bluebikes"
   ]
  },
  {
   "cell_type": "code",
   "execution_count": null,
   "metadata": {},
   "outputs": [],
   "source": [
    "mydateparser = lambda x: datetime.strptime(x, \"%Y-%m-%d %H:%M:%S\")\n",
    "csvBostonFull=pd.read_csv(\"Boston/Fertig.csv\", parse_dates=['starttime', \"stoptime\"], date_parser=mydateparser)\n",
    "\n",
    "#drop unnecessary column\n",
    "csvBostonFull = csvBostonFull.drop(columns=['tripduration,\"starttime\",\"stoptime\",\"start station id\",\"start station name\",\"start station latitude\",\"start station longitude\",\"end station id\",\"end station name\",\"end station latitude\",\"end station longitude\",\"bikeid\",\"usertype\",\"birth year\",\"gender\"'])"
   ]
  },
  {
   "cell_type": "markdown",
   "metadata": {},
   "source": [
    "read in prepared dataset"
   ]
  },
  {
   "cell_type": "code",
   "execution_count": null,
   "metadata": {},
   "outputs": [],
   "source": [
    "mydateparser = lambda x: datetime.strptime(x, \"%Y-%m-%d %H:%M:%S\")\n",
    "testboston=pd.read_csv(\"Boston/boston_2015.csv\", parse_dates=['start_time', \"end_time\"], date_parser=mydateparser)"
   ]
  },
  {
   "cell_type": "markdown",
   "metadata": {},
   "source": [
    "make sure datasets have the same number of rides"
   ]
  },
  {
   "cell_type": "code",
   "execution_count": null,
   "metadata": {},
   "outputs": [],
   "source": [
    "len(csvBostonFull[\"starttime\"].unique())"
   ]
  },
  {
   "cell_type": "code",
   "execution_count": null,
   "metadata": {},
   "outputs": [],
   "source": [
    "a = (csvBostonFull[\"starttime\"].unique() == testboston[\"start_time\"].unique())\n",
    "len(a)"
   ]
  },
  {
   "cell_type": "markdown",
   "metadata": {},
   "source": [
    "Control if each rented bike has returned "
   ]
  },
  {
   "cell_type": "code",
   "execution_count": null,
   "metadata": {},
   "outputs": [],
   "source": [
    "#original dataset\n",
    "csvBostonFull[csvBostonFull['end station id'] == \"\\\\N\"]"
   ]
  },
  {
   "cell_type": "code",
   "execution_count": null,
   "metadata": {},
   "outputs": [],
   "source": [
    "#prepared dataset\n",
    "testboston[testboston['end_station_id'] == \"\\\\N\"]"
   ]
  },
  {
   "cell_type": "markdown",
   "metadata": {},
   "source": [
    "delete all empty elements"
   ]
  },
  {
   "cell_type": "code",
   "execution_count": null,
   "metadata": {},
   "outputs": [],
   "source": [
    "csvBostonFull = csvBostonFull.drop(csvBostonFull.index[21566])\n",
    "testboston = testboston.drop(testboston.index[21566])\n"
   ]
  },
  {
   "cell_type": "code",
   "execution_count": null,
   "metadata": {},
   "outputs": [],
   "source": [
    "testboston.info()"
   ]
  },
  {
   "cell_type": "markdown",
   "metadata": {},
   "source": [
    "parse each column which was affected by empty data to right type"
   ]
  },
  {
   "cell_type": "code",
   "execution_count": null,
   "metadata": {},
   "outputs": [],
   "source": [
    "csvBostonFull['end station latitude'] = csvBostonFull['end station latitude'].astype(float)\n",
    "csvBostonFull['end station longitude'] = csvBostonFull['end station longitude'].astype(float)\n"
   ]
  },
  {
   "cell_type": "code",
   "execution_count": null,
   "metadata": {},
   "outputs": [],
   "source": [
    "testboston['end_station_id'] = testboston['end_station_id'].astype(int)"
   ]
  },
  {
   "cell_type": "code",
   "execution_count": null,
   "metadata": {},
   "outputs": [],
   "source": [
    "#control if everything has worked out\n",
    "len(csvBostonFull) == len(testboston)"
   ]
  },
  {
   "cell_type": "markdown",
   "metadata": {},
   "source": [
    "insert coordinates from the original dataset into the prepared dataset"
   ]
  },
  {
   "cell_type": "code",
   "execution_count": null,
   "metadata": {},
   "outputs": [],
   "source": [
    "testboston[\"start_latitude\"] = csvBostonFull[\"start station latitude\"]\n",
    "testboston[\"start_longitude\"] = csvBostonFull[\"start station longitude\"]\n",
    "\n",
    "testboston[\"end_latitude\"] = csvBostonFull[\"end station latitude\"]\n",
    "testboston[\"end_longitude\"] = csvBostonFull[\"end station longitude\"]"
   ]
  },
  {
   "cell_type": "code",
   "execution_count": null,
   "metadata": {},
   "outputs": [],
   "source": [
    "testboston.info()"
   ]
  },
  {
   "cell_type": "code",
   "execution_count": null,
   "metadata": {},
   "outputs": [],
   "source": [
    "testboston[\"Coordinates_start\"] = list(zip(testboston[\"start_latitude\"].round(4),testboston[\"start_longitude\"].round(4)))\n",
    "testboston[\"Coordinates_end\"] = list(zip(testboston[\"end_latitude\"].round(4),testboston[\"end_longitude\"].round(4)))"
   ]
  },
  {
   "cell_type": "code",
   "execution_count": null,
   "metadata": {},
   "outputs": [],
   "source": [
    "testboston.head(10)"
   ]
  },
  {
   "cell_type": "markdown",
   "metadata": {},
   "source": [
    "Creating new columns for weekdays  "
   ]
  },
  {
   "cell_type": "code",
   "execution_count": null,
   "metadata": {},
   "outputs": [],
   "source": [
    "def get_weekday (ts):\n",
    "    return ts.weekday()\n",
    "#0=Monday 6=Sunday\n",
    "testboston[\"Weekday\"]=testboston[\"start_time\"].apply(lambda x:get_weekday(x))"
   ]
  },
  {
   "cell_type": "markdown",
   "metadata": {},
   "source": [
    "## Show data on map"
   ]
  },
  {
   "cell_type": "markdown",
   "metadata": {},
   "source": [
    "#### create new map of Boston"
   ]
  },
  {
   "cell_type": "markdown",
   "metadata": {},
   "source": [
    "new OpenStreetMap with focus on Boston"
   ]
  },
  {
   "cell_type": "code",
   "execution_count": null,
   "metadata": {},
   "outputs": [],
   "source": [
    "#define new map\n",
    "\n",
    "boston_map = folium.Map(location=(42.361145, -71.057083),tiles='OpenStreetMap',zoom_start=12, control_scale=True, max_zoom=20)"
   ]
  },
  {
   "cell_type": "markdown",
   "metadata": {},
   "source": [
    "#### point each station on the map"
   ]
  },
  {
   "cell_type": "code",
   "execution_count": null,
   "metadata": {},
   "outputs": [],
   "source": [
    "positions = list(testboston[\"Coordinates_start\"].unique())\n",
    "names=list(testboston[\"start_station_name\"].unique())\n",
    "i=0\n",
    "for position in positions:\n",
    "    folium.CircleMarker(radius=5, location=position, popup=names[i], \n",
    "                                 color='crimson', fill_color='crimson').add_to(boston_map)\n",
    "    i=i+1"
   ]
  },
  {
   "cell_type": "code",
   "execution_count": null,
   "metadata": {},
   "outputs": [],
   "source": [
    "positions = list(testboston[\"Coordinates_end\"].unique())\n",
    "names=list(testboston[\"end_station_name\"].unique())\n",
    "i=0\n",
    "for position in positions:\n",
    "    folium.CircleMarker(radius=2, location=position, popup=names[i], \n",
    "                                 color='blue', fill_color='blue').add_to(boston_map)\n",
    "    i=i+1"
   ]
  },
  {
   "cell_type": "code",
   "execution_count": null,
   "metadata": {},
   "outputs": [],
   "source": [
    "boston_map"
   ]
  },
  {
   "cell_type": "markdown",
   "metadata": {},
   "source": [
    "#### create heatmaps\n",
    "show a heatmap based on every ride in the dataset"
   ]
  },
  {
   "cell_type": "code",
   "execution_count": null,
   "metadata": {},
   "outputs": [],
   "source": [
    "boston_map.add_child(plugins.HeatMap(testboston[\"Coordinates_start\"], radius=20))\n",
    "boston_map"
   ]
  },
  {
   "cell_type": "markdown",
   "metadata": {},
   "source": [
    "show a heatmap based on every ride taken on working days "
   ]
  },
  {
   "cell_type": "code",
   "execution_count": null,
   "metadata": {},
   "outputs": [],
   "source": [
    "boston_map1 = folium.Map(location=(42.361145, -71.057083),tiles='OpenStreetMap',zoom_start=12, control_scale=True, max_zoom=20)\n",
    "df2=testboston[testboston[\"Weekday\"]<5]\n",
    "boston_map1.add_child(plugins.HeatMap(df2[\"Coordinates_start\"], radius=20))\n",
    "positions = list(testboston[\"Coordinates_start\"].unique())\n",
    "names=list(testboston[\"start_station_name\"].unique())\n",
    "i=0\n",
    "for position in positions:\n",
    "    folium.CircleMarker(radius=5, location=position, popup=names[i], \n",
    "                                 color='crimson', fill_color='crimson').add_to(boston_map1)\n",
    "    i=i+1\n",
    "positions = list(testboston[\"Coordinates_end\"].unique())\n",
    "names=list(testboston[\"end_station_name\"].unique())\n",
    "i=0\n",
    "for position in positions:\n",
    "    folium.CircleMarker(radius=2, location=position, popup=names[i], \n",
    "                                 color='blue', fill_color='blue').add_to(boston_map1)\n",
    "    i=i+1\n",
    "boston_map1"
   ]
  },
  {
   "cell_type": "markdown",
   "metadata": {},
   "source": [
    "show a heatmap based on every ride taken on the weekends"
   ]
  },
  {
   "cell_type": "code",
   "execution_count": null,
   "metadata": {},
   "outputs": [],
   "source": [
    "boston_map2 = folium.Map(location=(42.361145, -71.057083),tiles='OpenStreetMap',zoom_start=12, control_scale=True, max_zoom=20)\n",
    "df3=testboston[testboston[\"Weekday\"]>5]\n",
    "boston_map2.add_child(plugins.HeatMap(df3[\"Coordinates_start\"], radius=20))\n",
    "boston_map2"
   ]
  },
  {
   "cell_type": "code",
   "execution_count": null,
   "metadata": {},
   "outputs": [],
   "source": [
    "#folium.PolyLine(testboston[\"Coordinates_start\"],color=\"blue\", weight=5, opacity=0.8, ).add_to(boston_map)\n",
    "#boston_map"
   ]
  },
  {
   "cell_type": "markdown",
   "metadata": {},
   "source": [
    "# Ten most frequently used stations in Boston"
   ]
  },
  {
   "cell_type": "markdown",
   "metadata": {},
   "source": [
    " count how often each station is approached"
   ]
  },
  {
   "cell_type": "code",
   "execution_count": null,
   "metadata": {},
   "outputs": [],
   "source": [
    "unique_station_name=testboston[\"start_station_name\"].unique()\n",
    "dictName=[]\n",
    "for x in unique_station_name:\n",
    "    count=(testboston[(testboston[\"start_station_name\"]==x)])\n",
    "    coordinates=count.iloc[0][\"Coordinates_start\"]\n",
    "    akt={\"Station_Name\":x, \"Count\":len(count), \"Coordinates_start\":coordinates}\n",
    "    dictName.append(akt)\n",
    "most_used=pd.DataFrame.from_dict(dictName)\n",
    "most_used=most_used.loc[most_used.Count>0]\n",
    "#sort df by count in descending order\n",
    "most_used=most_used.sort_values(by=\"Count\", ascending=False)\n"
   ]
  },
  {
   "cell_type": "markdown",
   "metadata": {},
   "source": [
    "show the ten most often approached stations in a barplot"
   ]
  },
  {
   "cell_type": "code",
   "execution_count": null,
   "metadata": {},
   "outputs": [],
   "source": [
    "most_used_reduced=most_used.head(10)\n",
    "\n",
    "#plot\n",
    "f,ax = plt.subplots(1,1,figsize=(20,10))\n",
    "barplot=sns.barplot(x=\"Station_Name\",y=\"Count\",data=most_used_reduced,ax=ax)\n",
    "barplot.set(xlabel=\"Station Name\", ylabel=\"Counts\")\n",
    "plt.xticks(rotation=90)\n",
    "print()"
   ]
  },
  {
   "cell_type": "markdown",
   "metadata": {},
   "source": [
    "# Ten less frequently used stations in Boston"
   ]
  },
  {
   "cell_type": "markdown",
   "metadata": {},
   "source": [
    "show the ten less often approached stations in a barplot"
   ]
  },
  {
   "cell_type": "code",
   "execution_count": null,
   "metadata": {},
   "outputs": [],
   "source": [
    "#sort df by count in ascending order\n",
    "most_used=most_used.sort_values(by=\"Count\", ascending=True)\n",
    "less_used_reduced=most_used.head(10)\n",
    "\n",
    "#plot\n",
    "f,ax = plt.subplots(1,1,figsize=(20,10))\n",
    "barplot=sns.barplot(x=\"Station_Name\",y=\"Count\",data=less_used_reduced,ax=ax)\n",
    "barplot.set(xlabel=\"Station Name\", ylabel=\"Counts\")\n",
    "plt.xticks(rotation=90)\n",
    "print()"
   ]
  },
  {
   "cell_type": "markdown",
   "metadata": {},
   "source": [
    "### Compare positions of most and less frequently used stations"
   ]
  },
  {
   "cell_type": "code",
   "execution_count": null,
   "metadata": {},
   "outputs": [],
   "source": [
    "boston_map_frq = folium.Map(location=(42.361145, -71.057083),tiles='OpenStreetMap',zoom_start=12, control_scale=True, max_zoom=20)\n",
    "\n",
    "positions = list(most_used_reduced[\"Coordinates_start\"].unique())\n",
    "names=list(most_used_reduced[\"Station_Name\"].unique())\n",
    "i=0\n",
    "for position in positions:\n",
    "    folium.CircleMarker(radius=5, location=position, popup=names[i], \n",
    "                                 color='red', fill_color='blue').add_to(boston_map_frq)\n",
    "    i=i+1\n",
    "    \n",
    "\n",
    "positions = list(less_used_reduced[\"Coordinates_start\"].unique())\n",
    "names=list(less_used_reduced[\"Station_Name\"].unique())\n",
    "i=0\n",
    "for position in positions:\n",
    "    folium.CircleMarker(radius=5, location=position, popup=names[i], \n",
    "                                 color='blue', fill_color='crimson').add_to(boston_map_frq)\n",
    "    i=i+1"
   ]
  },
  {
   "cell_type": "markdown",
   "metadata": {},
   "source": [
    "Blue circles mark the ten most often, red circles the ten less often used stations"
   ]
  },
  {
   "cell_type": "code",
   "execution_count": null,
   "metadata": {},
   "outputs": [],
   "source": [
    "boston_map_frq"
   ]
  },
  {
   "cell_type": "markdown",
   "metadata": {},
   "source": [
    "### Exemplary: Which stations are (most) approached by the most frequently used station? "
   ]
  },
  {
   "cell_type": "markdown",
   "metadata": {},
   "source": [
    "create list of all rides which started South Station - 700 Atlantic Ave."
   ]
  },
  {
   "cell_type": "code",
   "execution_count": null,
   "metadata": {},
   "outputs": [],
   "source": [
    "# most frequently used station is South Station - 700 Atlantic Ave.\n",
    "df_rides=testboston[testboston[\"start_station_name\"]==\"South Station - 700 Atlantic Ave.\"]"
   ]
  },
  {
   "cell_type": "markdown",
   "metadata": {},
   "source": [
    "point approached stations on a map"
   ]
  },
  {
   "cell_type": "code",
   "execution_count": null,
   "metadata": {},
   "outputs": [],
   "source": [
    "df_rides[df_rides[\"Coordinates_start\"]==df_rides[\"Coordinates_end\"]]"
   ]
  },
  {
   "cell_type": "markdown",
   "metadata": {},
   "source": [
    "Creation of Polyline between the station with the most traffics"
   ]
  },
  {
   "cell_type": "code",
   "execution_count": null,
   "metadata": {},
   "outputs": [],
   "source": [
    "driven_to=df_rides[\"end_station_name\"].unique()\n",
    "driven_to_coordinates=df_rides[\"Coordinates_end\"].unique()"
   ]
  },
  {
   "cell_type": "code",
   "execution_count": null,
   "metadata": {},
   "outputs": [],
   "source": [
    "dictL=[]\n",
    "i=0\n",
    "for x in driven_to:\n",
    "    akt=df_rides[df_rides[\"end_station_name\"]==x]\n",
    "    colour=\"\"\n",
    "    if len(akt)<200:\n",
    "        colour=\"blue\"\n",
    "    if len(akt)<300 and len(akt)>200:\n",
    "        colour=\"green\"\n",
    "    if len(akt)<500 and len(akt)>300:\n",
    "        colour=\"yellow\"\n",
    "    if len(akt)<900 and len(akt)>500:\n",
    "        colour=\"orange\"\n",
    "    if len(akt)>900:\n",
    "        colour=\"red\"\n",
    "        \n",
    "    a=driven_to_coordinates[i]\n",
    "    i=i+1\n",
    "    dictL.append({\"end_station_name\":x, \"Count\":len(akt), \"Colour\": colour, \"Coordinates\":a})\n",
    "    colour=\"\"\n",
    "df_colour=pd.DataFrame.from_dict(dictL)"
   ]
  },
  {
   "cell_type": "code",
   "execution_count": null,
   "metadata": {},
   "outputs": [],
   "source": [
    "df_colour"
   ]
  },
  {
   "cell_type": "code",
   "execution_count": null,
   "metadata": {},
   "outputs": [],
   "source": [
    "boston_map4 = folium.Map(location=(42.361145, -71.057083),tiles='OpenStreetMap',zoom_start=12, control_scale=True, max_zoom=20)\n",
    "folium.CircleMarker(radius=10, location=(42.3522, -71.0555), popup=\"South Station - 700 Atlantic Ave.\", \n",
    "                                 color='red', fill_color='red').add_to(boston_map4)\n",
    "boston_map4"
   ]
  },
  {
   "cell_type": "code",
   "execution_count": null,
   "metadata": {},
   "outputs": [],
   "source": [
    "positions = list(df_colour[\"Coordinates\"].unique())\n",
    "names=list(df_colour[\"end_station_name\"].unique())\n",
    "col=df_colour[\"Colour\"]\n",
    "i=0\n",
    "for position in positions:\n",
    "    a=(42.3522, -71.0555)\n",
    "    p=[]\n",
    "    p.append(a)\n",
    "    p.append(position)\n",
    "    p.append(a)\n",
    "    q=folium.PolyLine(p,strokeColor=col[i], weight=5, opacity=0.1)\n",
    "    q.add_to(boston_map4)\n",
    "    folium.CircleMarker(radius=5, location=position, popup=names[i], \n",
    "                                 color=col[i], fill_color='crimson').add_to(boston_map4)\n",
    "\n",
    "    i=i+1"
   ]
  },
  {
   "cell_type": "code",
   "execution_count": null,
   "metadata": {},
   "outputs": [],
   "source": [
    "#boston_map4.add_child(plugins.HeatMap(df_rides[\"Coordinates_end\"], radius=20))\n",
    "boston_map4"
   ]
  },
  {
   "cell_type": "markdown",
   "metadata": {},
   "source": [
    "### To reduce overfitting we only show the 30 most traveld stations"
   ]
  },
  {
   "cell_type": "code",
   "execution_count": null,
   "metadata": {},
   "outputs": [],
   "source": [
    "df_colour=df_colour.sort_values(by=\"Count\", ascending=False)\n",
    "df_colour"
   ]
  },
  {
   "cell_type": "code",
   "execution_count": null,
   "metadata": {},
   "outputs": [],
   "source": [
    "df_colour_reduced=df_colour.head(50)\n",
    "df_colour_reduced"
   ]
  },
  {
   "cell_type": "code",
   "execution_count": null,
   "metadata": {},
   "outputs": [],
   "source": [
    "boston_map5 = folium.Map(location=(42.361145, -71.057083),tiles='OpenStreetMap',zoom_start=12, control_scale=True, max_zoom=20)\n",
    "folium.CircleMarker(radius=10, location=(42.3522, -71.0555), popup=\"South Station - 700 Atlantic Ave.\", \n",
    "                                 color='red', fill_color='red').add_to(boston_map5)\n",
    "boston_map5"
   ]
  },
  {
   "cell_type": "code",
   "execution_count": null,
   "metadata": {},
   "outputs": [],
   "source": [
    "positions_reduced = list(df_colour_reduced[\"Coordinates\"].unique())\n",
    "names_reduced=list(df_colour_reduced[\"end_station_name\"].unique())\n",
    "col_reduced=list(df_colour_reduced[\"Colour\"])\n",
    "i=0\n",
    "for position in positions_reduced:\n",
    "    a=(42.3522, -71.0555)\n",
    "    p=[]\n",
    "    p.append(a)\n",
    "    p.append(position)\n",
    "    p.append(a)\n",
    "    folium.PolyLine(p, weight=5, opacity=.3).add_to(boston_map5)\n",
    "    folium.CircleMarker(radius=5, location=position, popup=names_reduced[i], \n",
    "                                 color=col_reduced[i]).add_to(boston_map5)\n",
    "\n",
    "    i=i+1\n",
    "boston_map5"
   ]
  },
  {
   "cell_type": "code",
   "execution_count": null,
   "metadata": {},
   "outputs": [],
   "source": []
  },
  {
   "cell_type": "code",
   "execution_count": null,
   "metadata": {},
   "outputs": [],
   "source": []
  }
 ],
 "metadata": {
  "kernelspec": {
   "display_name": "Python 3",
   "language": "python",
   "name": "python3"
  },
  "language_info": {
   "codemirror_mode": {
    "name": "ipython",
    "version": 3
   },
   "file_extension": ".py",
   "mimetype": "text/x-python",
   "name": "python",
   "nbconvert_exporter": "python",
   "pygments_lexer": "ipython3",
   "version": "3.8.5"
  }
 },
 "nbformat": 4,
 "nbformat_minor": 4
}
