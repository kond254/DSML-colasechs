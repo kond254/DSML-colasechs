{
 "cells": [
  {
   "cell_type": "markdown",
   "metadata": {
    "cell_id": "00000-b0ec4c8f-1dfc-4915-9b49-2270b4686119",
    "deepnote_cell_type": "markdown"
   },
   "source": [
    "# DSML-Colasechs"
   ]
  },
  {
   "cell_type": "code",
   "execution_count": 1,
   "metadata": {
    "cell_id": "00002-1979d4b6-b964-470e-8dec-a5618b8a7177",
    "deepnote_cell_type": "code",
    "deepnote_to_be_reexecuted": false,
    "execution_millis": 7,
    "execution_start": 1620729624146,
    "source_hash": "9b82ee11"
   },
   "outputs": [],
   "source": [
    "import pandas as pd"
   ]
  },
  {
   "cell_type": "code",
   "execution_count": 3,
   "metadata": {
    "cell_id": "00004-2f6ea817-7d40-48ac-ad5b-50d92a365753",
    "deepnote_cell_type": "code",
    "deepnote_to_be_reexecuted": false,
    "execution_millis": 90,
    "execution_start": 1620729624156,
    "source_hash": "ee259227",
    "tags": []
   },
   "outputs": [
    {
     "data": {
      "text/html": [
       "<div>\n",
       "<style scoped>\n",
       "    .dataframe tbody tr th:only-of-type {\n",
       "        vertical-align: middle;\n",
       "    }\n",
       "\n",
       "    .dataframe tbody tr th {\n",
       "        vertical-align: top;\n",
       "    }\n",
       "\n",
       "    .dataframe thead th {\n",
       "        text-align: right;\n",
       "    }\n",
       "</style>\n",
       "<table border=\"1\" class=\"dataframe\">\n",
       "  <thead>\n",
       "    <tr style=\"text-align: right;\">\n",
       "      <th></th>\n",
       "      <th>max_temp</th>\n",
       "      <th>min_temp</th>\n",
       "      <th>precip</th>\n",
       "    </tr>\n",
       "  </thead>\n",
       "  <tbody>\n",
       "    <tr>\n",
       "      <th>count</th>\n",
       "      <td>43354.000000</td>\n",
       "      <td>43354.000000</td>\n",
       "      <td>43356.000000</td>\n",
       "    </tr>\n",
       "    <tr>\n",
       "      <th>mean</th>\n",
       "      <td>11.456717</td>\n",
       "      <td>11.395922</td>\n",
       "      <td>0.095581</td>\n",
       "    </tr>\n",
       "    <tr>\n",
       "      <th>std</th>\n",
       "      <td>10.118606</td>\n",
       "      <td>10.114095</td>\n",
       "      <td>0.294019</td>\n",
       "    </tr>\n",
       "    <tr>\n",
       "      <th>min</th>\n",
       "      <td>-22.800000</td>\n",
       "      <td>-22.800000</td>\n",
       "      <td>0.000000</td>\n",
       "    </tr>\n",
       "    <tr>\n",
       "      <th>25%</th>\n",
       "      <td>3.300000</td>\n",
       "      <td>3.300000</td>\n",
       "      <td>0.000000</td>\n",
       "    </tr>\n",
       "    <tr>\n",
       "      <th>50%</th>\n",
       "      <td>11.700000</td>\n",
       "      <td>11.700000</td>\n",
       "      <td>0.000000</td>\n",
       "    </tr>\n",
       "    <tr>\n",
       "      <th>75%</th>\n",
       "      <td>20.000000</td>\n",
       "      <td>19.850000</td>\n",
       "      <td>0.000000</td>\n",
       "    </tr>\n",
       "    <tr>\n",
       "      <th>max</th>\n",
       "      <td>36.100000</td>\n",
       "      <td>36.100000</td>\n",
       "      <td>1.000000</td>\n",
       "    </tr>\n",
       "  </tbody>\n",
       "</table>\n",
       "</div>"
      ],
      "text/plain": [
       "           max_temp      min_temp        precip\n",
       "count  43354.000000  43354.000000  43356.000000\n",
       "mean      11.456717     11.395922      0.095581\n",
       "std       10.118606     10.114095      0.294019\n",
       "min      -22.800000    -22.800000      0.000000\n",
       "25%        3.300000      3.300000      0.000000\n",
       "50%       11.700000     11.700000      0.000000\n",
       "75%       20.000000     19.850000      0.000000\n",
       "max       36.100000     36.100000      1.000000"
      ]
     },
     "execution_count": 3,
     "metadata": {},
     "output_type": "execute_result"
    }
   ],
   "source": [
    "weather_file = pd.read_csv(\"Boston/weather_hourly_boston.csv\")\n",
    "weather_file.describe()\n",
    "#dropna(self, axis=0, how=\"any\", thresh=None, subset=None, inplace=False)"
   ]
  },
  {
   "cell_type": "code",
   "execution_count": 3,
   "metadata": {
    "cell_id": "00004-9a4e82cf-1417-4833-9b1f-90130d12633b",
    "deepnote_cell_type": "code",
    "deepnote_to_be_reexecuted": false,
    "execution_millis": 51,
    "execution_start": 1620729624264,
    "source_hash": "7d039b50",
    "tags": []
   },
   "outputs": [
    {
     "data": {
      "application/vnd.deepnote.dataframe.v2+json": {
       "column_count": 4,
       "columns": [
        {
         "dtype": "object",
         "name": "date_time",
         "stats": {
          "categories": [
           {
            "count": 1,
            "name": "2015-01-02 01:00:00"
           },
           {
            "count": 1,
            "name": "2015-01-02 02:00:00"
           },
           {
            "count": 8,
            "name": "8 others"
           }
          ],
          "nan_count": 0,
          "unique_count": 10
         }
        },
        {
         "dtype": "float64",
         "name": "max_temp",
         "stats": {
          "histogram": [
           {
            "bin_end": -5.1,
            "bin_start": -5.6,
            "count": 4
           },
           {
            "bin_end": -4.6,
            "bin_start": -5.1,
            "count": 0
           },
           {
            "bin_end": -4.1,
            "bin_start": -4.6,
            "count": 1
           },
           {
            "bin_end": -3.5999999999999996,
            "bin_start": -4.1,
            "count": 0
           },
           {
            "bin_end": -3.0999999999999996,
            "bin_start": -3.5999999999999996,
            "count": 0
           },
           {
            "bin_end": -2.5999999999999996,
            "bin_start": -3.0999999999999996,
            "count": 0
           },
           {
            "bin_end": -2.0999999999999996,
            "bin_start": -2.5999999999999996,
            "count": 0
           },
           {
            "bin_end": -1.5999999999999996,
            "bin_start": -2.0999999999999996,
            "count": 0
           },
           {
            "bin_end": -1.0999999999999996,
            "bin_start": -1.5999999999999996,
            "count": 2
           },
           {
            "bin_end": -0.6,
            "bin_start": -1.0999999999999996,
            "count": 3
           }
          ],
          "max": "-0.6",
          "min": "-5.6",
          "nan_count": 0,
          "unique_count": 4
         }
        },
        {
         "dtype": "float64",
         "name": "min_temp",
         "stats": {
          "histogram": [
           {
            "bin_end": -5.1,
            "bin_start": -5.6,
            "count": 4
           },
           {
            "bin_end": -4.6,
            "bin_start": -5.1,
            "count": 0
           },
           {
            "bin_end": -4.1,
            "bin_start": -4.6,
            "count": 1
           },
           {
            "bin_end": -3.5999999999999996,
            "bin_start": -4.1,
            "count": 0
           },
           {
            "bin_end": -3.0999999999999996,
            "bin_start": -3.5999999999999996,
            "count": 0
           },
           {
            "bin_end": -2.5999999999999996,
            "bin_start": -3.0999999999999996,
            "count": 0
           },
           {
            "bin_end": -2.0999999999999996,
            "bin_start": -2.5999999999999996,
            "count": 0
           },
           {
            "bin_end": -1.5999999999999996,
            "bin_start": -2.0999999999999996,
            "count": 0
           },
           {
            "bin_end": -1.0999999999999996,
            "bin_start": -1.5999999999999996,
            "count": 2
           },
           {
            "bin_end": -0.6,
            "bin_start": -1.0999999999999996,
            "count": 3
           }
          ],
          "max": "-0.6",
          "min": "-5.6",
          "nan_count": 0,
          "unique_count": 4
         }
        },
        {
         "dtype": "float64",
         "name": "precip",
         "stats": {
          "histogram": [
           {
            "bin_end": -0.4,
            "bin_start": -0.5,
            "count": 0
           },
           {
            "bin_end": -0.3,
            "bin_start": -0.4,
            "count": 0
           },
           {
            "bin_end": -0.19999999999999996,
            "bin_start": -0.3,
            "count": 0
           },
           {
            "bin_end": -0.09999999999999998,
            "bin_start": -0.19999999999999996,
            "count": 0
           },
           {
            "bin_end": 0,
            "bin_start": -0.09999999999999998,
            "count": 0
           },
           {
            "bin_end": 0.10000000000000009,
            "bin_start": 0,
            "count": 10
           },
           {
            "bin_end": 0.20000000000000007,
            "bin_start": 0.10000000000000009,
            "count": 0
           },
           {
            "bin_end": 0.30000000000000004,
            "bin_start": 0.20000000000000007,
            "count": 0
           },
           {
            "bin_end": 0.4,
            "bin_start": 0.30000000000000004,
            "count": 0
           },
           {
            "bin_end": 0.5,
            "bin_start": 0.4,
            "count": 0
           }
          ],
          "max": "0.0",
          "min": "0.0",
          "nan_count": 0,
          "unique_count": 1
         }
        },
        {
         "dtype": "int64",
         "name": "_deepnote_index_column"
        }
       ],
       "row_count": 10,
       "rows_bottom": null,
       "rows_top": [
        {
         "_deepnote_index_column": 0,
         "date_time": "2015-01-02 01:00:00",
         "max_temp": -1.1,
         "min_temp": -1.1,
         "precip": 0
        },
        {
         "_deepnote_index_column": 1,
         "date_time": "2015-01-02 02:00:00",
         "max_temp": -1.1,
         "min_temp": -1.1,
         "precip": 0
        },
        {
         "_deepnote_index_column": 2,
         "date_time": "2015-01-02 03:00:00",
         "max_temp": -0.6,
         "min_temp": -0.6,
         "precip": 0
        },
        {
         "_deepnote_index_column": 3,
         "date_time": "2015-01-02 04:00:00",
         "max_temp": -0.6,
         "min_temp": -0.6,
         "precip": 0
        },
        {
         "_deepnote_index_column": 4,
         "date_time": "2015-01-02 05:00:00",
         "max_temp": -0.6,
         "min_temp": -0.6,
         "precip": 0
        },
        {
         "_deepnote_index_column": 5,
         "date_time": "2015-01-01 06:00:00",
         "max_temp": -5.6,
         "min_temp": -5.6,
         "precip": 0
        },
        {
         "_deepnote_index_column": 6,
         "date_time": "2015-01-01 07:00:00",
         "max_temp": -5.6,
         "min_temp": -5.6,
         "precip": 0
        },
        {
         "_deepnote_index_column": 7,
         "date_time": "2015-01-01 08:00:00",
         "max_temp": -5.6,
         "min_temp": -5.6,
         "precip": 0
        },
        {
         "_deepnote_index_column": 8,
         "date_time": "2015-01-01 09:00:00",
         "max_temp": -4.4,
         "min_temp": -4.4,
         "precip": 0
        },
        {
         "_deepnote_index_column": 9,
         "date_time": "2015-01-01 10:00:00",
         "max_temp": -5.6,
         "min_temp": -5.6,
         "precip": 0
        }
       ]
      },
      "text/html": [
       "<div>\n",
       "<style scoped>\n",
       "    .dataframe tbody tr th:only-of-type {\n",
       "        vertical-align: middle;\n",
       "    }\n",
       "\n",
       "    .dataframe tbody tr th {\n",
       "        vertical-align: top;\n",
       "    }\n",
       "\n",
       "    .dataframe thead th {\n",
       "        text-align: right;\n",
       "    }\n",
       "</style>\n",
       "<table border=\"1\" class=\"dataframe\">\n",
       "  <thead>\n",
       "    <tr style=\"text-align: right;\">\n",
       "      <th></th>\n",
       "      <th>date_time</th>\n",
       "      <th>max_temp</th>\n",
       "      <th>min_temp</th>\n",
       "      <th>precip</th>\n",
       "    </tr>\n",
       "  </thead>\n",
       "  <tbody>\n",
       "    <tr>\n",
       "      <th>0</th>\n",
       "      <td>2015-01-02 01:00:00</td>\n",
       "      <td>-1.1</td>\n",
       "      <td>-1.1</td>\n",
       "      <td>0.0</td>\n",
       "    </tr>\n",
       "    <tr>\n",
       "      <th>1</th>\n",
       "      <td>2015-01-02 02:00:00</td>\n",
       "      <td>-1.1</td>\n",
       "      <td>-1.1</td>\n",
       "      <td>0.0</td>\n",
       "    </tr>\n",
       "    <tr>\n",
       "      <th>2</th>\n",
       "      <td>2015-01-02 03:00:00</td>\n",
       "      <td>-0.6</td>\n",
       "      <td>-0.6</td>\n",
       "      <td>0.0</td>\n",
       "    </tr>\n",
       "    <tr>\n",
       "      <th>3</th>\n",
       "      <td>2015-01-02 04:00:00</td>\n",
       "      <td>-0.6</td>\n",
       "      <td>-0.6</td>\n",
       "      <td>0.0</td>\n",
       "    </tr>\n",
       "    <tr>\n",
       "      <th>4</th>\n",
       "      <td>2015-01-02 05:00:00</td>\n",
       "      <td>-0.6</td>\n",
       "      <td>-0.6</td>\n",
       "      <td>0.0</td>\n",
       "    </tr>\n",
       "    <tr>\n",
       "      <th>5</th>\n",
       "      <td>2015-01-01 06:00:00</td>\n",
       "      <td>-5.6</td>\n",
       "      <td>-5.6</td>\n",
       "      <td>0.0</td>\n",
       "    </tr>\n",
       "    <tr>\n",
       "      <th>6</th>\n",
       "      <td>2015-01-01 07:00:00</td>\n",
       "      <td>-5.6</td>\n",
       "      <td>-5.6</td>\n",
       "      <td>0.0</td>\n",
       "    </tr>\n",
       "    <tr>\n",
       "      <th>7</th>\n",
       "      <td>2015-01-01 08:00:00</td>\n",
       "      <td>-5.6</td>\n",
       "      <td>-5.6</td>\n",
       "      <td>0.0</td>\n",
       "    </tr>\n",
       "    <tr>\n",
       "      <th>8</th>\n",
       "      <td>2015-01-01 09:00:00</td>\n",
       "      <td>-4.4</td>\n",
       "      <td>-4.4</td>\n",
       "      <td>0.0</td>\n",
       "    </tr>\n",
       "    <tr>\n",
       "      <th>9</th>\n",
       "      <td>2015-01-01 10:00:00</td>\n",
       "      <td>-5.6</td>\n",
       "      <td>-5.6</td>\n",
       "      <td>0.0</td>\n",
       "    </tr>\n",
       "  </tbody>\n",
       "</table>\n",
       "</div>"
      ],
      "text/plain": [
       "             date_time  max_temp  min_temp  precip\n",
       "0  2015-01-02 01:00:00      -1.1      -1.1     0.0\n",
       "1  2015-01-02 02:00:00      -1.1      -1.1     0.0\n",
       "2  2015-01-02 03:00:00      -0.6      -0.6     0.0\n",
       "3  2015-01-02 04:00:00      -0.6      -0.6     0.0\n",
       "4  2015-01-02 05:00:00      -0.6      -0.6     0.0\n",
       "5  2015-01-01 06:00:00      -5.6      -5.6     0.0\n",
       "6  2015-01-01 07:00:00      -5.6      -5.6     0.0\n",
       "7  2015-01-01 08:00:00      -5.6      -5.6     0.0\n",
       "8  2015-01-01 09:00:00      -4.4      -4.4     0.0\n",
       "9  2015-01-01 10:00:00      -5.6      -5.6     0.0"
      ]
     },
     "execution_count": 3,
     "metadata": {},
     "output_type": "execute_result"
    }
   ],
   "source": [
    "weather_file.head(10)"
   ]
  },
  {
   "cell_type": "code",
   "execution_count": 4,
   "metadata": {
    "cell_id": "00005-ccbce430-d458-4459-a6f7-c1bc8c4aeed0",
    "deepnote_cell_type": "code",
    "deepnote_to_be_reexecuted": false,
    "execution_millis": 19,
    "execution_start": 1620729624311,
    "source_hash": "64c42cd0",
    "tags": []
   },
   "outputs": [
    {
     "name": "stdout",
     "output_type": "stream",
     "text": [
      "<class 'pandas.core.frame.DataFrame'>\n",
      "RangeIndex: 43848 entries, 0 to 43847\n",
      "Data columns (total 4 columns):\n",
      " #   Column     Non-Null Count  Dtype  \n",
      "---  ------     --------------  -----  \n",
      " 0   date_time  43354 non-null  object \n",
      " 1   max_temp   43354 non-null  float64\n",
      " 2   min_temp   43354 non-null  float64\n",
      " 3   precip     43356 non-null  float64\n",
      "dtypes: float64(3), object(1)\n",
      "memory usage: 1.3+ MB\n",
      "<class 'pandas.core.frame.DataFrame'>\n",
      "RangeIndex: 43848 entries, 0 to 43847\n",
      "Data columns (total 4 columns):\n",
      " #   Column     Non-Null Count  Dtype  \n",
      "---  ------     --------------  -----  \n",
      " 0   date_time  43354 non-null  object \n",
      " 1   max_temp   43354 non-null  float64\n",
      " 2   min_temp   43354 non-null  float64\n",
      " 3   precip     43356 non-null  float64\n",
      "dtypes: float64(3), object(1)\n",
      "memory usage: 1.3+ MB\n",
      "                 date_time  max_temp  min_temp  precip\n",
      "0      2015-01-02 01:00:00      -1.1      -1.1     0.0\n",
      "1      2015-01-02 02:00:00      -1.1      -1.1     0.0\n",
      "2      2015-01-02 03:00:00      -0.6      -0.6     0.0\n",
      "3      2015-01-02 04:00:00      -0.6      -0.6     0.0\n",
      "4      2015-01-02 05:00:00      -0.6      -0.6     0.0\n",
      "...                    ...       ...       ...     ...\n",
      "43843  2020-01-01 20:00:00       5.0       5.0     0.0\n",
      "43844  2020-01-01 21:00:00       4.4       4.4     0.0\n",
      "43845  2020-01-01 22:00:00       4.4       4.4     0.0\n",
      "43846  2020-01-01 23:00:00       3.9       3.9     0.0\n",
      "43847  2020-01-02 00:00:00       3.3       3.3     0.0\n",
      "\n",
      "[43848 rows x 4 columns]\n",
      "                 date_time  max_temp  min_temp  precip\n",
      "0      2015-01-02 01:00:00      -1.1      -1.1     0.0\n",
      "1      2015-01-02 02:00:00      -1.1      -1.1     0.0\n",
      "2      2015-01-02 03:00:00      -0.6      -0.6     0.0\n",
      "3      2015-01-02 04:00:00      -0.6      -0.6     0.0\n",
      "4      2015-01-02 05:00:00      -0.6      -0.6     0.0\n",
      "...                    ...       ...       ...     ...\n",
      "43843  2020-01-01 20:00:00       5.0       5.0     0.0\n",
      "43844  2020-01-01 21:00:00       4.4       4.4     0.0\n",
      "43845  2020-01-01 22:00:00       4.4       4.4     0.0\n",
      "43846  2020-01-01 23:00:00       3.9       3.9     0.0\n",
      "43847  2020-01-02 00:00:00       3.3       3.3     0.0\n",
      "\n",
      "[43848 rows x 4 columns]\n"
     ]
    }
   ],
   "source": [
    "weather_file.info()\n",
    "weather_file.dropna(how='all', axis=0)\n",
    "weather_file.info()\n",
    "\n",
    "\n",
    "\n",
    "print(weather_file)\n",
    "\n",
    "\n",
    "weather_file.dropna()\n",
    "print(weather_file)"
   ]
  },
  {
   "cell_type": "code",
   "execution_count": 5,
   "metadata": {
    "cell_id": "00006-00bbdcea-d38d-4f97-a8f4-26044c12aaee",
    "deepnote_cell_type": "code",
    "deepnote_to_be_reexecuted": false,
    "execution_millis": 11,
    "execution_start": 1620729624337,
    "source_hash": "d6382225",
    "tags": []
   },
   "outputs": [
    {
     "name": "stdout",
     "output_type": "stream",
     "text": [
      "43848\n"
     ]
    },
    {
     "data": {
      "text/plain": [
       "494"
      ]
     },
     "execution_count": 5,
     "metadata": {},
     "output_type": "execute_result"
    }
   ],
   "source": [
    "print(len(weather_file))\n",
    "len(weather_file)-len(weather_file.dropna())"
   ]
  },
  {
   "cell_type": "code",
   "execution_count": 6,
   "metadata": {
    "cell_id": "00006-ec854b02-8f09-4cae-80e7-3254afff73e6",
    "deepnote_cell_type": "code",
    "deepnote_to_be_reexecuted": false,
    "execution_millis": 5,
    "execution_start": 1620729624394,
    "source_hash": "43a9a069",
    "tags": []
   },
   "outputs": [
    {
     "name": "stdout",
     "output_type": "stream",
     "text": [
      "<class 'pandas.core.frame.DataFrame'>\n",
      "RangeIndex: 43848 entries, 0 to 43847\n",
      "Data columns (total 4 columns):\n",
      " #   Column     Non-Null Count  Dtype  \n",
      "---  ------     --------------  -----  \n",
      " 0   date_time  43354 non-null  object \n",
      " 1   max_temp   43354 non-null  float64\n",
      " 2   min_temp   43354 non-null  float64\n",
      " 3   precip     43356 non-null  float64\n",
      "dtypes: float64(3), object(1)\n",
      "memory usage: 1.3+ MB\n",
      "<class 'pandas.core.frame.DataFrame'>\n",
      "Int64Index: 43354 entries, 0 to 43847\n",
      "Data columns (total 4 columns):\n",
      " #   Column     Non-Null Count  Dtype  \n",
      "---  ------     --------------  -----  \n",
      " 0   date_time  43354 non-null  object \n",
      " 1   max_temp   43354 non-null  float64\n",
      " 2   min_temp   43354 non-null  float64\n",
      " 3   precip     43354 non-null  float64\n",
      "dtypes: float64(3), object(1)\n",
      "memory usage: 1.7+ MB\n",
      "len weatherfile\n",
      "43848\n",
      "len clear\n",
      "43354\n"
     ]
    }
   ],
   "source": [
    "weather_file.info()\n",
    "cleared_weather = weather_file.dropna()\n",
    "cleared_weather.info()\n",
    "\n",
    "print(\"len weatherfile\")\n",
    "print(len(weather_file))\n",
    "print(\"len clear\")\n",
    "print(len(cleared_weather))"
   ]
  },
  {
   "cell_type": "markdown",
   "metadata": {
    "created_in_deepnote_cell": true,
    "deepnote_cell_type": "markdown",
    "tags": []
   },
   "source": [
    "<a style='text-decoration:none;line-height:16px;display:flex;color:#5B5B62;padding:10px;justify-content:end;' href='https://deepnote.com?utm_source=created-in-deepnote-cell&projectId=35506763-73aa-4d62-b6fa-1d5cc17021c1' target=\"_blank\">\n",
    "<img alt='Created in deepnote.com' style='display:inline;max-height:16px;margin:0px;margin-right:7.5px;' src='data:image/svg+xml;base64,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' > </img>\n",
    "Created in <span style='font-weight:600;margin-left:4px;'>Deepnote</span></a>"
   ]
  }
 ],
 "metadata": {
  "deepnote": {},
  "deepnote_execution_queue": [],
  "deepnote_notebook_id": "b42370f8-7f54-478e-9473-6dab85147bb1",
  "kernelspec": {
   "display_name": "Python 3",
   "language": "python",
   "name": "python3"
  },
  "language_info": {
   "codemirror_mode": {
    "name": "ipython",
    "version": 3
   },
   "file_extension": ".py",
   "mimetype": "text/x-python",
   "name": "python",
   "nbconvert_exporter": "python",
   "pygments_lexer": "ipython3",
   "version": "3.8.5"
  }
 },
 "nbformat": 4,
 "nbformat_minor": 4
}
