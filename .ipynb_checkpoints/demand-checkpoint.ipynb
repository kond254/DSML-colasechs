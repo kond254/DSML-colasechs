{
 "cells": [
  {
   "cell_type": "code",
   "execution_count": 1,
   "metadata": {},
   "outputs": [],
   "source": [
    "import numpy as np\n",
    "import pandas as pd\n",
    "from datetime import date, time, datetime, timedelta \n",
    "from dateutil import parser\n",
    "import matplotlib.pyplot as plt\n",
    "import seaborn as sns\n",
    "import numpy as np\n",
    "import math\n",
    "import random\n",
    "import timeit\n",
    "\n",
    "import warnings\n",
    "warnings.filterwarnings(\"ignore\")\n",
    "\n"
   ]
  },
  {
   "cell_type": "code",
   "execution_count": null,
   "metadata": {},
   "outputs": [],
   "source": []
  },
  {
   "cell_type": "code",
   "execution_count": null,
   "metadata": {},
   "outputs": [],
   "source": []
  },
  {
   "cell_type": "code",
   "execution_count": null,
   "metadata": {},
   "outputs": [],
   "source": [
    "mydateparser = lambda x: datetime.strptime(x, \"%Y-%m-%d %H:%M:%S\")\n",
    "testboston=pd.read_csv(\"Boston/boston_2015.csv\", parse_dates=['start_time', \"end_time\"], date_parser=mydateparser)"
   ]
  },
  {
   "cell_type": "code",
   "execution_count": null,
   "metadata": {},
   "outputs": [],
   "source": [
    "testboston = testboston.drop(testboston.index[21566])\n",
    "testboston"
   ]
  },
  {
   "cell_type": "code",
   "execution_count": null,
   "metadata": {},
   "outputs": [],
   "source": [
    "testboston['end_station_id'] = testboston['end_station_id'].astype(int)"
   ]
  },
  {
   "cell_type": "code",
   "execution_count": null,
   "metadata": {
    "scrolled": true
   },
   "outputs": [],
   "source": [
    "#creating column 'Duration'\n",
    "testboston[\"Duration\"]=testboston[\"end_time\"]-testboston[\"start_time\"]\n",
    "x=timedelta(days=5)\n",
    "x\n",
    "testboston[testboston[\"Duration\"]>x]\n"
   ]
  },
  {
   "cell_type": "code",
   "execution_count": null,
   "metadata": {},
   "outputs": [],
   "source": [
    "def get_weekday (ts):\n",
    "    return ts.weekday()\n",
    "#0=Monday 6=Sunday\n",
    "testboston[\"Weekday\"]=testboston[\"start_time\"].apply(lambda x:get_weekday(x))"
   ]
  },
  {
   "cell_type": "code",
   "execution_count": null,
   "metadata": {
    "scrolled": true
   },
   "outputs": [],
   "source": [
    "def get_month (ts):\n",
    "    return ts.month()\n",
    "#0=Monday 6=Sunday\n",
    "testboston[\"Month\"]=testboston[\"start_time\"].apply(lambda x:get_month(x))"
   ]
  },
  {
   "cell_type": "code",
   "execution_count": null,
   "metadata": {},
   "outputs": [],
   "source": [
    "#testboston"
   ]
  },
  {
   "cell_type": "code",
   "execution_count": null,
   "metadata": {},
   "outputs": [],
   "source": [
    "#s=datetime.strptime(\"2015-01-01\",\"%Y-%m-%d\")\n",
    "#e=datetime.strptime(\"2015-07-01\",\"%Y-%m-%d\")"
   ]
  },
  {
   "cell_type": "code",
   "execution_count": null,
   "metadata": {},
   "outputs": [],
   "source": [
    "#testboston[testboston[\"start_time\"]<e]"
   ]
  },
  {
   "cell_type": "code",
   "execution_count": null,
   "metadata": {},
   "outputs": [],
   "source": [
    "#testboston[testboston[\"Weekday\"]>4]"
   ]
  },
  {
   "cell_type": "code",
   "execution_count": null,
   "metadata": {},
   "outputs": [],
   "source": [
    "testboston[\"start_time\"][21566]"
   ]
  },
  {
   "cell_type": "code",
   "execution_count": null,
   "metadata": {},
   "outputs": [],
   "source": [
    "dicta={}\n",
    "for i in range(24):\n",
    "    dicta[i]=0\n",
    "dicta"
   ]
  },
  {
   "cell_type": "code",
   "execution_count": null,
   "metadata": {},
   "outputs": [],
   "source": [
    "time = pd.Series(dicta)\n",
    "for x in range(len(testboston)):\n",
    "    if x==21566:\n",
    "        x=x+1\n",
    "    akt=testboston[\"start_time\"][x]\n",
    "    dicta[akt.hour]=(dicta[akt.hour])+1\n",
    "print(dicta)\n"
   ]
  },
  {
   "cell_type": "code",
   "execution_count": null,
   "metadata": {},
   "outputs": [],
   "source": [
    "#improving \n",
    "time = pd.Series(dicta)\n",
    "for x in range(len(testboston)):\n",
    "    if x==21566:\n",
    "        x=x+1\n",
    "    akt=testboston[\"start_time\"][x]\n",
    "    bkt=testboston[\"end_time\"][x]\n",
    "    if bkt.hour - s :\n",
    "        dicta[int(akt.hour) +i]=(dicta[int(akt.hour)])+1\n",
    "        i += 1\n",
    "print(dicta)\n"
   ]
  },
  {
   "cell_type": "code",
   "execution_count": null,
   "metadata": {},
   "outputs": [],
   "source": [
    "p=0\n",
    "for x in range(len(dicta)):\n",
    "    p=p+dicta[x]\n",
    "p"
   ]
  },
  {
   "cell_type": "code",
   "execution_count": null,
   "metadata": {
    "scrolled": false
   },
   "outputs": [],
   "source": [
    "#testboston[\"start_time\"].dt.year\n"
   ]
  },
  {
   "cell_type": "code",
   "execution_count": null,
   "metadata": {},
   "outputs": [],
   "source": [
    "plt.bar(range(len(dicta)), list(dicta.values()), align='center')\n",
    "plt.xticks(range(len(dicta)), list(dicta.keys()))\n",
    "plt.show()"
   ]
  },
  {
   "cell_type": "code",
   "execution_count": null,
   "metadata": {},
   "outputs": [],
   "source": [
    "dicta_wweek={}\n",
    "for i in range(24):\n",
    "    dicta_wweek[i]=0\n"
   ]
  },
  {
   "cell_type": "code",
   "execution_count": null,
   "metadata": {},
   "outputs": [],
   "source": [
    "\n",
    "testboston[\"start_time\"].dt.weekday \n",
    "testboston"
   ]
  },
  {
   "cell_type": "code",
   "execution_count": null,
   "metadata": {},
   "outputs": [],
   "source": [
    "time = pd.Series(dicta)                           \n",
    "                              \n",
    "for x in range(len(testboston)):\n",
    "    if x==21566:\n",
    "        x=x+1\n",
    "    akt=testboston[\"start_time\"][x]\n",
    "    dicta[akt.hour]=(dicta[akt.hour])+1\n",
    "print(dicta)"
   ]
  }
 ],
 "metadata": {
  "kernelspec": {
   "display_name": "Python 3",
   "language": "python",
   "name": "python3"
  },
  "language_info": {
   "codemirror_mode": {
    "name": "ipython",
    "version": 3
   },
   "file_extension": ".py",
   "mimetype": "text/x-python",
   "name": "python",
   "nbconvert_exporter": "python",
   "pygments_lexer": "ipython3",
   "version": "3.8.8"
  }
 },
 "nbformat": 4,
 "nbformat_minor": 4
}
