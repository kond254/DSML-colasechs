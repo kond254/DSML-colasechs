{
 "cells": [
  {
   "cell_type": "markdown",
   "metadata": {},
   "source": [
    "# Geographical demand patterns for Boston 2015 / Bluebikes"
   ]
  },
  {
   "cell_type": "markdown",
   "metadata": {},
   "source": [
    "Import all important libraries"
   ]
  },
  {
   "cell_type": "code",
   "execution_count": 2,
   "metadata": {},
   "outputs": [],
   "source": [
    "import numpy as np\n",
    "import pandas as pd\n",
    "from datetime import date, time, datetime, timedelta \n",
    "from dateutil import parser\n",
    "import matplotlib.pyplot as plt\n",
    "import seaborn as sns\n",
    "import folium\n",
    "from folium import plugins\n",
    "from folium.plugins import HeatMap\n",
    "import math\n",
    "import random\n",
    "import timeit\n",
    "import io\n",
    "from PIL import Image\n",
    "\n",
    "import warnings\n",
    "warnings.filterwarnings(\"ignore\")"
   ]
  },
  {
   "cell_type": "markdown",
   "metadata": {},
   "source": [
    "## Prepare data"
   ]
  },
  {
   "cell_type": "markdown",
   "metadata": {},
   "source": [
    "read in original dataset from bluebikes to have also the coordinates of the stations"
   ]
  },
  {
   "cell_type": "code",
   "execution_count": 3,
   "metadata": {},
   "outputs": [
    {
     "ename": "FileNotFoundError",
     "evalue": "[Errno 2] No such file or directory: 'Boston/Fertig.csv'",
     "output_type": "error",
     "traceback": [
      "\u001b[0;31m---------------------------------------------------------------------------\u001b[0m",
      "\u001b[0;31mFileNotFoundError\u001b[0m                         Traceback (most recent call last)",
      "\u001b[0;32m<ipython-input-2-ea30f83d05a4>\u001b[0m in \u001b[0;36m<module>\u001b[0;34m\u001b[0m\n\u001b[1;32m      1\u001b[0m \u001b[0mmydateparser\u001b[0m \u001b[0;34m=\u001b[0m \u001b[0;32mlambda\u001b[0m \u001b[0mx\u001b[0m\u001b[0;34m:\u001b[0m \u001b[0mdatetime\u001b[0m\u001b[0;34m.\u001b[0m\u001b[0mstrptime\u001b[0m\u001b[0;34m(\u001b[0m\u001b[0mx\u001b[0m\u001b[0;34m,\u001b[0m \u001b[0;34m\"%Y-%m-%d %H:%M:%S\"\u001b[0m\u001b[0;34m)\u001b[0m\u001b[0;34m\u001b[0m\u001b[0;34m\u001b[0m\u001b[0m\n\u001b[0;32m----> 2\u001b[0;31m \u001b[0mtest_Boston\u001b[0m\u001b[0;34m=\u001b[0m\u001b[0mpd\u001b[0m\u001b[0;34m.\u001b[0m\u001b[0mread_csv\u001b[0m\u001b[0;34m(\u001b[0m\u001b[0;34m\"Boston/Fertig.csv\"\u001b[0m\u001b[0;34m,\u001b[0m \u001b[0mparse_dates\u001b[0m\u001b[0;34m=\u001b[0m\u001b[0;34m[\u001b[0m\u001b[0;34m'starttime'\u001b[0m\u001b[0;34m,\u001b[0m \u001b[0;34m'stoptime'\u001b[0m\u001b[0;34m]\u001b[0m\u001b[0;34m,\u001b[0m \u001b[0mdate_parser\u001b[0m\u001b[0;34m=\u001b[0m\u001b[0mmydateparser\u001b[0m\u001b[0;34m)\u001b[0m\u001b[0;34m\u001b[0m\u001b[0;34m\u001b[0m\u001b[0m\n\u001b[0m\u001b[1;32m      3\u001b[0m \u001b[0;34m\u001b[0m\u001b[0m\n\u001b[1;32m      4\u001b[0m \u001b[0;31m#drop unnecessary column\u001b[0m\u001b[0;34m\u001b[0m\u001b[0;34m\u001b[0m\u001b[0;34m\u001b[0m\u001b[0m\n\u001b[1;32m      5\u001b[0m \u001b[0mtest_Boston\u001b[0m \u001b[0;34m=\u001b[0m \u001b[0mtest_Boston\u001b[0m\u001b[0;34m.\u001b[0m\u001b[0mdrop\u001b[0m\u001b[0;34m(\u001b[0m\u001b[0mcolumns\u001b[0m\u001b[0;34m=\u001b[0m\u001b[0;34m[\u001b[0m\u001b[0;34m'tripduration,\"starttime\",\"stoptime\",\"start station id\",\"start station name\",\"start station latitude\",\"start station longitude\",\"end station id\",\"end station name\",\"end station latitude\",\"end station longitude\",\"bikeid\",\"usertype\",\"birth year\",\"gender\"'\u001b[0m\u001b[0;34m]\u001b[0m\u001b[0;34m)\u001b[0m\u001b[0;34m\u001b[0m\u001b[0;34m\u001b[0m\u001b[0m\n",
      "\u001b[0;32m/opt/anaconda3/lib/python3.8/site-packages/pandas/io/parsers.py\u001b[0m in \u001b[0;36mread_csv\u001b[0;34m(filepath_or_buffer, sep, delimiter, header, names, index_col, usecols, squeeze, prefix, mangle_dupe_cols, dtype, engine, converters, true_values, false_values, skipinitialspace, skiprows, skipfooter, nrows, na_values, keep_default_na, na_filter, verbose, skip_blank_lines, parse_dates, infer_datetime_format, keep_date_col, date_parser, dayfirst, cache_dates, iterator, chunksize, compression, thousands, decimal, lineterminator, quotechar, quoting, doublequote, escapechar, comment, encoding, dialect, error_bad_lines, warn_bad_lines, delim_whitespace, low_memory, memory_map, float_precision)\u001b[0m\n\u001b[1;32m    684\u001b[0m     )\n\u001b[1;32m    685\u001b[0m \u001b[0;34m\u001b[0m\u001b[0m\n\u001b[0;32m--> 686\u001b[0;31m     \u001b[0;32mreturn\u001b[0m \u001b[0m_read\u001b[0m\u001b[0;34m(\u001b[0m\u001b[0mfilepath_or_buffer\u001b[0m\u001b[0;34m,\u001b[0m \u001b[0mkwds\u001b[0m\u001b[0;34m)\u001b[0m\u001b[0;34m\u001b[0m\u001b[0;34m\u001b[0m\u001b[0m\n\u001b[0m\u001b[1;32m    687\u001b[0m \u001b[0;34m\u001b[0m\u001b[0m\n\u001b[1;32m    688\u001b[0m \u001b[0;34m\u001b[0m\u001b[0m\n",
      "\u001b[0;32m/opt/anaconda3/lib/python3.8/site-packages/pandas/io/parsers.py\u001b[0m in \u001b[0;36m_read\u001b[0;34m(filepath_or_buffer, kwds)\u001b[0m\n\u001b[1;32m    450\u001b[0m \u001b[0;34m\u001b[0m\u001b[0m\n\u001b[1;32m    451\u001b[0m     \u001b[0;31m# Create the parser.\u001b[0m\u001b[0;34m\u001b[0m\u001b[0;34m\u001b[0m\u001b[0;34m\u001b[0m\u001b[0m\n\u001b[0;32m--> 452\u001b[0;31m     \u001b[0mparser\u001b[0m \u001b[0;34m=\u001b[0m \u001b[0mTextFileReader\u001b[0m\u001b[0;34m(\u001b[0m\u001b[0mfp_or_buf\u001b[0m\u001b[0;34m,\u001b[0m \u001b[0;34m**\u001b[0m\u001b[0mkwds\u001b[0m\u001b[0;34m)\u001b[0m\u001b[0;34m\u001b[0m\u001b[0;34m\u001b[0m\u001b[0m\n\u001b[0m\u001b[1;32m    453\u001b[0m \u001b[0;34m\u001b[0m\u001b[0m\n\u001b[1;32m    454\u001b[0m     \u001b[0;32mif\u001b[0m \u001b[0mchunksize\u001b[0m \u001b[0;32mor\u001b[0m \u001b[0miterator\u001b[0m\u001b[0;34m:\u001b[0m\u001b[0;34m\u001b[0m\u001b[0;34m\u001b[0m\u001b[0m\n",
      "\u001b[0;32m/opt/anaconda3/lib/python3.8/site-packages/pandas/io/parsers.py\u001b[0m in \u001b[0;36m__init__\u001b[0;34m(self, f, engine, **kwds)\u001b[0m\n\u001b[1;32m    944\u001b[0m             \u001b[0mself\u001b[0m\u001b[0;34m.\u001b[0m\u001b[0moptions\u001b[0m\u001b[0;34m[\u001b[0m\u001b[0;34m\"has_index_names\"\u001b[0m\u001b[0;34m]\u001b[0m \u001b[0;34m=\u001b[0m \u001b[0mkwds\u001b[0m\u001b[0;34m[\u001b[0m\u001b[0;34m\"has_index_names\"\u001b[0m\u001b[0;34m]\u001b[0m\u001b[0;34m\u001b[0m\u001b[0;34m\u001b[0m\u001b[0m\n\u001b[1;32m    945\u001b[0m \u001b[0;34m\u001b[0m\u001b[0m\n\u001b[0;32m--> 946\u001b[0;31m         \u001b[0mself\u001b[0m\u001b[0;34m.\u001b[0m\u001b[0m_make_engine\u001b[0m\u001b[0;34m(\u001b[0m\u001b[0mself\u001b[0m\u001b[0;34m.\u001b[0m\u001b[0mengine\u001b[0m\u001b[0;34m)\u001b[0m\u001b[0;34m\u001b[0m\u001b[0;34m\u001b[0m\u001b[0m\n\u001b[0m\u001b[1;32m    947\u001b[0m \u001b[0;34m\u001b[0m\u001b[0m\n\u001b[1;32m    948\u001b[0m     \u001b[0;32mdef\u001b[0m \u001b[0mclose\u001b[0m\u001b[0;34m(\u001b[0m\u001b[0mself\u001b[0m\u001b[0;34m)\u001b[0m\u001b[0;34m:\u001b[0m\u001b[0;34m\u001b[0m\u001b[0;34m\u001b[0m\u001b[0m\n",
      "\u001b[0;32m/opt/anaconda3/lib/python3.8/site-packages/pandas/io/parsers.py\u001b[0m in \u001b[0;36m_make_engine\u001b[0;34m(self, engine)\u001b[0m\n\u001b[1;32m   1176\u001b[0m     \u001b[0;32mdef\u001b[0m \u001b[0m_make_engine\u001b[0m\u001b[0;34m(\u001b[0m\u001b[0mself\u001b[0m\u001b[0;34m,\u001b[0m \u001b[0mengine\u001b[0m\u001b[0;34m=\u001b[0m\u001b[0;34m\"c\"\u001b[0m\u001b[0;34m)\u001b[0m\u001b[0;34m:\u001b[0m\u001b[0;34m\u001b[0m\u001b[0;34m\u001b[0m\u001b[0m\n\u001b[1;32m   1177\u001b[0m         \u001b[0;32mif\u001b[0m \u001b[0mengine\u001b[0m \u001b[0;34m==\u001b[0m \u001b[0;34m\"c\"\u001b[0m\u001b[0;34m:\u001b[0m\u001b[0;34m\u001b[0m\u001b[0;34m\u001b[0m\u001b[0m\n\u001b[0;32m-> 1178\u001b[0;31m             \u001b[0mself\u001b[0m\u001b[0;34m.\u001b[0m\u001b[0m_engine\u001b[0m \u001b[0;34m=\u001b[0m \u001b[0mCParserWrapper\u001b[0m\u001b[0;34m(\u001b[0m\u001b[0mself\u001b[0m\u001b[0;34m.\u001b[0m\u001b[0mf\u001b[0m\u001b[0;34m,\u001b[0m \u001b[0;34m**\u001b[0m\u001b[0mself\u001b[0m\u001b[0;34m.\u001b[0m\u001b[0moptions\u001b[0m\u001b[0;34m)\u001b[0m\u001b[0;34m\u001b[0m\u001b[0;34m\u001b[0m\u001b[0m\n\u001b[0m\u001b[1;32m   1179\u001b[0m         \u001b[0;32melse\u001b[0m\u001b[0;34m:\u001b[0m\u001b[0;34m\u001b[0m\u001b[0;34m\u001b[0m\u001b[0m\n\u001b[1;32m   1180\u001b[0m             \u001b[0;32mif\u001b[0m \u001b[0mengine\u001b[0m \u001b[0;34m==\u001b[0m \u001b[0;34m\"python\"\u001b[0m\u001b[0;34m:\u001b[0m\u001b[0;34m\u001b[0m\u001b[0;34m\u001b[0m\u001b[0m\n",
      "\u001b[0;32m/opt/anaconda3/lib/python3.8/site-packages/pandas/io/parsers.py\u001b[0m in \u001b[0;36m__init__\u001b[0;34m(self, src, **kwds)\u001b[0m\n\u001b[1;32m   2006\u001b[0m         \u001b[0mkwds\u001b[0m\u001b[0;34m[\u001b[0m\u001b[0;34m\"usecols\"\u001b[0m\u001b[0;34m]\u001b[0m \u001b[0;34m=\u001b[0m \u001b[0mself\u001b[0m\u001b[0;34m.\u001b[0m\u001b[0musecols\u001b[0m\u001b[0;34m\u001b[0m\u001b[0;34m\u001b[0m\u001b[0m\n\u001b[1;32m   2007\u001b[0m \u001b[0;34m\u001b[0m\u001b[0m\n\u001b[0;32m-> 2008\u001b[0;31m         \u001b[0mself\u001b[0m\u001b[0;34m.\u001b[0m\u001b[0m_reader\u001b[0m \u001b[0;34m=\u001b[0m \u001b[0mparsers\u001b[0m\u001b[0;34m.\u001b[0m\u001b[0mTextReader\u001b[0m\u001b[0;34m(\u001b[0m\u001b[0msrc\u001b[0m\u001b[0;34m,\u001b[0m \u001b[0;34m**\u001b[0m\u001b[0mkwds\u001b[0m\u001b[0;34m)\u001b[0m\u001b[0;34m\u001b[0m\u001b[0;34m\u001b[0m\u001b[0m\n\u001b[0m\u001b[1;32m   2009\u001b[0m         \u001b[0mself\u001b[0m\u001b[0;34m.\u001b[0m\u001b[0munnamed_cols\u001b[0m \u001b[0;34m=\u001b[0m \u001b[0mself\u001b[0m\u001b[0;34m.\u001b[0m\u001b[0m_reader\u001b[0m\u001b[0;34m.\u001b[0m\u001b[0munnamed_cols\u001b[0m\u001b[0;34m\u001b[0m\u001b[0;34m\u001b[0m\u001b[0m\n\u001b[1;32m   2010\u001b[0m \u001b[0;34m\u001b[0m\u001b[0m\n",
      "\u001b[0;32mpandas/_libs/parsers.pyx\u001b[0m in \u001b[0;36mpandas._libs.parsers.TextReader.__cinit__\u001b[0;34m()\u001b[0m\n",
      "\u001b[0;32mpandas/_libs/parsers.pyx\u001b[0m in \u001b[0;36mpandas._libs.parsers.TextReader._setup_parser_source\u001b[0;34m()\u001b[0m\n",
      "\u001b[0;31mFileNotFoundError\u001b[0m: [Errno 2] No such file or directory: 'Boston/Fertig.csv'"
     ]
    }
   ],
   "source": [
    "mydateparser = lambda x: datetime.strptime(x, \"%Y-%m-%d %H:%M:%S\")\n",
    "test_Boston=pd.read_csv(\"Boston/full_bluebike.csv\", parse_dates=['starttime', 'stoptime'], date_parser=mydateparser)\n",
    "#in order to get the \"full_bluebike.csv\" we provide Onedrive access for download: https://uzk-my.sharepoint.com/:f:/g/personal/konstantin_dreesen_uzk_onmicrosoft_com/Elc01kvmXnJGt0d6ICsqsHQBe1nmgE5d6ht4syPua4FF6A?e=83WUQq\n",
    "#drop unnecessary column\n",
    "test_Boston = test_Boston.drop(columns=['tripduration,\"starttime\",\"stoptime\",\"start station id\",\"start station name\",\"start station latitude\",\"start station longitude\",\"end station id\",\"end station name\",\"end station latitude\",\"end station longitude\",\"bikeid\",\"usertype\",\"birth year\",\"gender\"'])"
   ]
  },
  {
   "cell_type": "markdown",
   "metadata": {},
   "source": [
    "read in prepared dataset"
   ]
  },
  {
   "cell_type": "code",
   "execution_count": null,
   "metadata": {},
   "outputs": [],
   "source": [
    "mydateparser = lambda x: datetime.strptime(x, \"%Y-%m-%d %H:%M:%S\")\n",
    "df_boston_full=pd.read_csv(\"Boston/boston_2015.csv\", parse_dates=['start_time', \"end_time\"], date_parser=mydateparser)"
   ]
  },
  {
   "cell_type": "markdown",
   "metadata": {},
   "source": [
    "make sure datasets have the same number of rides"
   ]
  },
  {
   "cell_type": "code",
   "execution_count": null,
   "metadata": {},
   "outputs": [],
   "source": [
    "len(test_Boston[\"starttime\"].unique())"
   ]
  },
  {
   "cell_type": "code",
   "execution_count": null,
   "metadata": {},
   "outputs": [],
   "source": [
    "a = (test_Boston[\"starttime\"].unique() == df_boston_full[\"start_time\"].unique())\n",
    "len(a)"
   ]
  },
  {
   "cell_type": "markdown",
   "metadata": {},
   "source": [
    "Control if each rented bike has returned "
   ]
  },
  {
   "cell_type": "code",
   "execution_count": null,
   "metadata": {},
   "outputs": [],
   "source": [
    "#original dataset\n",
    "test_Boston[test_Boston['end station id'] == \"\\\\N\"]"
   ]
  },
  {
   "cell_type": "code",
   "execution_count": null,
   "metadata": {},
   "outputs": [],
   "source": [
    "#prepared dataset\n",
    "df_boston_full[df_boston_full['end_station_id'] == \"\\\\N\"]"
   ]
  },
  {
   "cell_type": "markdown",
   "metadata": {},
   "source": [
    "delete all empty elements"
   ]
  },
  {
   "cell_type": "code",
   "execution_count": null,
   "metadata": {},
   "outputs": [],
   "source": [
    "test_Boston = test_Boston.drop(test_Boston.index[21566])\n",
    "df_boston_full = df_boston_full.drop(df_boston_full.index[21566])\n"
   ]
  },
  {
   "cell_type": "code",
   "execution_count": null,
   "metadata": {},
   "outputs": [],
   "source": [
    "df_boston_full.info()"
   ]
  },
  {
   "cell_type": "markdown",
   "metadata": {},
   "source": [
    "parse each column which was affected by empty data to the right data type"
   ]
  },
  {
   "cell_type": "code",
   "execution_count": null,
   "metadata": {},
   "outputs": [],
   "source": [
    "test_Boston['end station latitude'] = test_Boston['end station latitude'].astype(float)\n",
    "test_Boston['end station longitude'] = test_Boston['end station longitude'].astype(float)\n"
   ]
  },
  {
   "cell_type": "code",
   "execution_count": null,
   "metadata": {},
   "outputs": [],
   "source": [
    "df_boston_full['end_station_id'] = df_boston_full['end_station_id'].astype(int)"
   ]
  },
  {
   "cell_type": "code",
   "execution_count": null,
   "metadata": {},
   "outputs": [],
   "source": [
    "#control if everything has worked out\n",
    "len(test_Boston) == len(df_boston_full)"
   ]
  },
  {
   "cell_type": "markdown",
   "metadata": {},
   "source": [
    "insert coordinates from the original dataset into the prepared dataset"
   ]
  },
  {
   "cell_type": "code",
   "execution_count": null,
   "metadata": {},
   "outputs": [],
   "source": [
    "df_boston_full[\"start_latitude\"] = test_Boston[\"start station latitude\"]\n",
    "df_boston_full[\"start_longitude\"] = test_Boston[\"start station longitude\"]\n",
    "\n",
    "df_boston_full[\"end_latitude\"] = test_Boston[\"end station latitude\"]\n",
    "df_boston_full[\"end_longitude\"] = test_Boston[\"end station longitude\"]"
   ]
  },
  {
   "cell_type": "code",
   "execution_count": null,
   "metadata": {},
   "outputs": [],
   "source": [
    "df_boston_full[\"Coordinates_start\"] = list(zip(df_boston_full[\"start_latitude\"].round(4),df_boston_full[\"start_longitude\"].round(4)))\n",
    "df_boston_full[\"Coordinates_end\"] = list(zip(df_boston_full[\"end_latitude\"].round(4),df_boston_full[\"end_longitude\"].round(4)))"
   ]
  },
  {
   "cell_type": "code",
   "execution_count": null,
   "metadata": {},
   "outputs": [],
   "source": [
    "df_boston_full.head(3)"
   ]
  },
  {
   "cell_type": "markdown",
   "metadata": {},
   "source": [
    "Creating new columns for weekdays  "
   ]
  },
  {
   "cell_type": "code",
   "execution_count": null,
   "metadata": {},
   "outputs": [],
   "source": [
    "def get_weekday (ts):\n",
    "    return ts.weekday()\n",
    "#0=Monday 6=Sunday\n",
    "df_boston_full[\"Weekday\"]=df_boston_full[\"start_time\"].apply(lambda x:get_weekday(x))"
   ]
  },
  {
   "cell_type": "markdown",
   "metadata": {},
   "source": [
    "## Show the data on a map"
   ]
  },
  {
   "cell_type": "markdown",
   "metadata": {},
   "source": [
    "#### create new map of Boston"
   ]
  },
  {
   "cell_type": "markdown",
   "metadata": {},
   "source": [
    "new Map of type type 'Stamen Toner' (for a better readibility) with focus on Boston"
   ]
  },
  {
   "cell_type": "code",
   "execution_count": null,
   "metadata": {},
   "outputs": [],
   "source": [
    "#define new map\n",
    "\n",
    "boston_map = folium.Map(location=(42.361145, -71.057083),tiles='Stamen Toner',zoom_start=12, control_scale=True, max_zoom=20)"
   ]
  },
  {
   "cell_type": "markdown",
   "metadata": {},
   "source": [
    "#### point each station on the map"
   ]
  },
  {
   "cell_type": "markdown",
   "metadata": {},
   "source": [
    "Display all stations on the map to have a better overview in which areas the stations are mainly located"
   ]
  },
  {
   "cell_type": "code",
   "execution_count": null,
   "metadata": {},
   "outputs": [],
   "source": [
    "positions = list(df_boston_full[\"Coordinates_start\"].unique())\n",
    "names=list(df_boston_full[\"start_station_name\"].unique())\n",
    "i=0\n",
    "for position in positions:\n",
    "    folium.CircleMarker(radius=5, location=position, popup=names[i], \n",
    "                                 color='crimson', fill_color='crimson').add_to(boston_map)\n",
    "    i=i+1"
   ]
  },
  {
   "cell_type": "code",
   "execution_count": null,
   "metadata": {},
   "outputs": [],
   "source": [
    "positions = list(df_boston_full[\"Coordinates_end\"].unique())\n",
    "names=list(df_boston_full[\"end_station_name\"].unique())\n",
    "i=0\n",
    "for position in positions:\n",
    "    folium.CircleMarker(radius=2, location=position, popup=names[i], \n",
    "                                 color='blue', fill_color='blue').add_to(boston_map)\n",
    "    i=i+1"
   ]
  },
  {
   "cell_type": "code",
   "execution_count": null,
   "metadata": {},
   "outputs": [],
   "source": [
    "boston_map.save(\"boston_map.html\")\n",
    "boston_map"
   ]
  },
  {
   "cell_type": "markdown",
   "metadata": {},
   "source": [
    "#### create heatmaps\n",
    "show a heatmap based on every ride in the dataset"
   ]
  },
  {
   "cell_type": "code",
   "execution_count": null,
   "metadata": {},
   "outputs": [],
   "source": [
    "boston_map.add_child(plugins.HeatMap(df_boston_full[\"Coordinates_start\"], radius=20))\n",
    "boston_map"
   ]
  },
  {
   "cell_type": "markdown",
   "metadata": {},
   "source": [
    "Compare it to heatmaps splitted in working days and weekends to evaluate possible differences during the week.\n",
    "Show a heatmap based on every ride taken on working days:"
   ]
  },
  {
   "cell_type": "code",
   "execution_count": null,
   "metadata": {},
   "outputs": [],
   "source": [
    "boston_map1 = folium.Map(location=(42.361145, -71.057083),tiles='Stamen Toner',zoom_start=12, control_scale=True, max_zoom=20)\n",
    "df2=df_boston_full[df_boston_full[\"Weekday\"]<5]\n",
    "boston_map1.add_child(plugins.HeatMap(df2[\"Coordinates_start\"], radius=20))\n",
    "positions = list(df_boston_full[\"Coordinates_start\"].unique())\n",
    "names=list(df_boston_full[\"start_station_name\"].unique())\n",
    "i=0\n",
    "for position in positions:\n",
    "    folium.CircleMarker(radius=5, location=position, popup=names[i], \n",
    "                                 color='crimson', fill_color='crimson').add_to(boston_map1)\n",
    "    i=i+1\n",
    "positions = list(df_boston_full[\"Coordinates_end\"].unique())\n",
    "names=list(df_boston_full[\"end_station_name\"].unique())\n",
    "i=0\n",
    "for position in positions:\n",
    "    folium.CircleMarker(radius=2, location=position, popup=names[i], \n",
    "                                 color='blue', fill_color='blue').add_to(boston_map1)\n",
    "    i=i+1\n",
    "boston_map1.save(\"boston_map1.html\")\n",
    "boston_map1"
   ]
  },
  {
   "cell_type": "markdown",
   "metadata": {},
   "source": [
    "Show a heatmap based on every ride taken on the weekends:"
   ]
  },
  {
   "cell_type": "code",
   "execution_count": null,
   "metadata": {},
   "outputs": [],
   "source": [
    "boston_map2 = folium.Map(location=(42.361145, -71.057083),tiles='Stamen Toner',zoom_start=12, control_scale=True, max_zoom=20)\n",
    "df3=df_boston_full[df_boston_full[\"Weekday\"]>5]\n",
    "positions = list(df_boston_full[\"Coordinates_start\"].unique())\n",
    "names=list(df_boston_full[\"start_station_name\"].unique())\n",
    "i=0\n",
    "for position in positions:\n",
    "    folium.CircleMarker(radius=5, location=position, popup=names[i], \n",
    "                                 color='crimson', fill_color='crimson').add_to(boston_map2)\n",
    "    i=i+1\n",
    "positions = list(df_boston_full[\"Coordinates_end\"].unique())\n",
    "names=list(df_boston_full[\"end_station_name\"].unique())\n",
    "i=0\n",
    "for position in positions:\n",
    "    folium.CircleMarker(radius=2, location=position, popup=names[i], \n",
    "                                 color='blue', fill_color='blue').add_to(boston_map2)\n",
    "    i=i+1\n",
    "boston_map2.add_child(plugins.HeatMap(df3[\"Coordinates_start\"], radius=20))\n",
    "boston_map2.save(\"boston_map2.html\")\n",
    "boston_map2"
   ]
  },
  {
   "cell_type": "markdown",
   "metadata": {},
   "source": [
    "As can be seen there is not much variance between the Weekday and Weekend data. In both cases most bikes are rented in the city center. First of all around the Boston South-Station and the Harvard University. The stations are also mainly centered in the city, which increase the bike traffic in this part of Boston."
   ]
  },
  {
   "cell_type": "markdown",
   "metadata": {},
   "source": [
    "# Ten most frequently used stations in Boston"
   ]
  },
  {
   "cell_type": "markdown",
   "metadata": {},
   "source": [
    " count how often each station is approached"
   ]
  },
  {
   "cell_type": "code",
   "execution_count": null,
   "metadata": {},
   "outputs": [],
   "source": [
    "unique_station_name=df_boston_full[\"start_station_name\"].unique()\n",
    "dictName=[]\n",
    "for x in unique_station_name:\n",
    "    count=(df_boston_full[(df_boston_full[\"start_station_name\"]==x)])\n",
    "    coordinates=count.iloc[0][\"Coordinates_start\"]\n",
    "    akt={\"Station_Name\":x, \"Count\":len(count), \"Coordinates_start\":coordinates}\n",
    "    dictName.append(akt)\n",
    "most_used=pd.DataFrame.from_dict(dictName)\n",
    "most_used=most_used.loc[most_used.Count>0]\n",
    "#sort df by count in descending order\n",
    "most_used=most_used.sort_values(by=\"Count\", ascending=False)\n"
   ]
  },
  {
   "cell_type": "markdown",
   "metadata": {},
   "source": [
    "show the ten most often approached stations in a barplot"
   ]
  },
  {
   "cell_type": "code",
   "execution_count": null,
   "metadata": {},
   "outputs": [],
   "source": [
    "most_used_reduced=most_used.head(10)\n",
    "\n",
    "#plot\n",
    "f,ax = plt.subplots(1,1,figsize=(20,10))\n",
    "barplot=sns.barplot(x=\"Station_Name\",y=\"Count\",data=most_used_reduced,ax=ax)\n",
    "barplot.set(xlabel=\"Station Name\", ylabel=\"Counts\")\n",
    "plt.xticks(rotation=90)\n",
    "print()"
   ]
  },
  {
   "cell_type": "markdown",
   "metadata": {},
   "source": [
    "# Ten least frequently used stations in Boston"
   ]
  },
  {
   "cell_type": "markdown",
   "metadata": {},
   "source": [
    "show the ten least often approached stations in a barplot"
   ]
  },
  {
   "cell_type": "code",
   "execution_count": null,
   "metadata": {},
   "outputs": [],
   "source": [
    "#sort df by count in ascending order\n",
    "most_used=most_used.sort_values(by=\"Count\", ascending=True)\n",
    "less_used_reduced=most_used.head(10)\n",
    "\n",
    "#plot\n",
    "f,ax = plt.subplots(1,1,figsize=(20,10))\n",
    "barplot=sns.barplot(x=\"Station_Name\",y=\"Count\",data=less_used_reduced,ax=ax)\n",
    "barplot.set(xlabel=\"Station Name\", ylabel=\"Counts\")\n",
    "plt.xticks(rotation=90)\n",
    "print()"
   ]
  },
  {
   "cell_type": "markdown",
   "metadata": {},
   "source": [
    "### Compare the positions of most and least frequently used stations"
   ]
  },
  {
   "cell_type": "code",
   "execution_count": null,
   "metadata": {},
   "outputs": [],
   "source": [
    "boston_map_frq = folium.Map(location=(42.361145, -71.057083),tiles='OpenStreetMap',zoom_start=12, control_scale=True, max_zoom=20)\n",
    "\n",
    "positions = list(most_used_reduced[\"Coordinates_start\"].unique())\n",
    "names=list(most_used_reduced[\"Station_Name\"].unique())\n",
    "i=0\n",
    "for position in positions:\n",
    "    folium.CircleMarker(radius=5, location=position, popup=names[i], \n",
    "                                 color='red', fill_color='blue').add_to(boston_map_frq)\n",
    "    i=i+1\n",
    "    \n",
    "\n",
    "positions = list(less_used_reduced[\"Coordinates_start\"].unique())\n",
    "names=list(less_used_reduced[\"Station_Name\"].unique())\n",
    "i=0\n",
    "for position in positions:\n",
    "    folium.CircleMarker(radius=5, location=position, popup=names[i], \n",
    "                                 color='blue', fill_color='crimson').add_to(boston_map_frq)\n",
    "    i=i+1"
   ]
  },
  {
   "cell_type": "markdown",
   "metadata": {},
   "source": [
    "<font color='blue'>Blue</font> circles mark the ten most often, <font color='red'>red</font> circles the ten least often used stations"
   ]
  },
  {
   "cell_type": "code",
   "execution_count": null,
   "metadata": {},
   "outputs": [],
   "source": [
    "boston_map_frq"
   ]
  },
  {
   "cell_type": "markdown",
   "metadata": {},
   "source": [
    "As you can see the most used stations are in the city center, which was early displayed with the heat map. As you go further out of boston each map is less used. "
   ]
  },
  {
   "cell_type": "markdown",
   "metadata": {},
   "source": [
    "### Exemplary: Which stations are (most) approached by the most frequently used station? "
   ]
  },
  {
   "cell_type": "markdown",
   "metadata": {},
   "source": [
    "create list of all rides which started at `South Station - 700 Atlantic Ave`."
   ]
  },
  {
   "cell_type": "code",
   "execution_count": null,
   "metadata": {},
   "outputs": [],
   "source": [
    "# most frequently used station is South Station - 700 Atlantic Ave.\n",
    "df_rides_most_used=df_boston_full[df_boston_full[\"start_station_name\"]==\"South Station - 700 Atlantic Ave.\"]"
   ]
  },
  {
   "cell_type": "markdown",
   "metadata": {},
   "source": [
    "point approached stations on a map"
   ]
  },
  {
   "cell_type": "code",
   "execution_count": null,
   "metadata": {},
   "outputs": [],
   "source": [
    "df_rides_most_used[df_rides_most_used[\"Coordinates_start\"]==df_rides_most_used[\"Coordinates_end\"]]\n",
    "print()"
   ]
  },
  {
   "cell_type": "markdown",
   "metadata": {},
   "source": [
    "Creation of Polyline between the station with the most traffics"
   ]
  },
  {
   "cell_type": "code",
   "execution_count": null,
   "metadata": {},
   "outputs": [],
   "source": [
    "driven_to=df_rides_most_used[\"end_station_name\"].unique()\n",
    "driven_to_coordinates=df_rides_most_used[\"Coordinates_end\"].unique()"
   ]
  },
  {
   "cell_type": "code",
   "execution_count": null,
   "metadata": {},
   "outputs": [],
   "source": [
    "dictL=[]\n",
    "i=0\n",
    "for x in driven_to:\n",
    "    akt=df_rides_most_used[df_rides_most_used[\"end_station_name\"]==x]\n",
    "    colour=\"\"\n",
    "    if len(akt)<200 and len(akt)>0:\n",
    "        colour=\"midnightblue\"\n",
    "    if len(akt)<300 and len(akt)>200:\n",
    "        colour=\"lightskyblue\"\n",
    "    if len(akt)<500 and len(akt)>300:\n",
    "        colour=\"thistle\"\n",
    "    if len(akt)<900 and len(akt)>500:\n",
    "        colour=\"orangered\"\n",
    "    if len(akt)>900:\n",
    "        colour=\"red\"\n",
    "        \n",
    "    a=driven_to_coordinates[i]\n",
    "    i=i+1\n",
    "    dictL.append({\"end_station_name\":x, \"Count\":len(akt), \"Colour\": colour, \"Coordinates\":a})\n",
    "    colour=\"\"\n",
    "df_colour=pd.DataFrame.from_dict(dictL)"
   ]
  },
  {
   "cell_type": "code",
   "execution_count": null,
   "metadata": {},
   "outputs": [],
   "source": [
    "boston_map4 = folium.Map(location=(42.361145, -71.057083),tiles='OpenStreetMap',zoom_start=12, control_scale=True, max_zoom=20)\n",
    "folium.CircleMarker(radius=10, location=(42.3522, -71.0555), popup=\"South Station - 700 Atlantic Ave.\", \n",
    "                                 color='red', fill_color='red').add_to(boston_map4)"
   ]
  },
  {
   "cell_type": "code",
   "execution_count": null,
   "metadata": {},
   "outputs": [],
   "source": [
    "positions = list(df_colour[\"Coordinates\"].unique())\n",
    "names=list(df_colour[\"end_station_name\"].unique())\n",
    "col=df_colour[\"Colour\"]\n",
    "i=0\n",
    "for position in positions:\n",
    "    a=(42.3522, -71.0555)\n",
    "    p=[]\n",
    "    p.append(a)\n",
    "    p.append(position)\n",
    "    p.append(a)\n",
    "    q=folium.PolyLine(p,strokeColor=col[i], weight=5, opacity=0.1)\n",
    "    q.add_to(boston_map4)\n",
    "    folium.CircleMarker(radius=5, location=position, popup=names[i], \n",
    "                                 color=col[i], fill_color='crimson').add_to(boston_map4)\n",
    "\n",
    "    i=i+1"
   ]
  },
  {
   "cell_type": "markdown",
   "metadata": {},
   "source": [
    "The color scale ranges from <font color='blue'>blue</font> (least approached stations) to <font color='red'>red</font> (most approached stations)."
   ]
  },
  {
   "cell_type": "code",
   "execution_count": null,
   "metadata": {},
   "outputs": [],
   "source": [
    "#boston_map4.add_child(plugins.HeatMap(df_rides_most_used[\"Coordinates_end\"], radius=20))\n",
    "boston_map4"
   ]
  },
  {
   "cell_type": "markdown",
   "metadata": {},
   "source": [
    " To reduce overplotting we only show the 50 most traveled stations"
   ]
  },
  {
   "cell_type": "code",
   "execution_count": null,
   "metadata": {},
   "outputs": [],
   "source": [
    "df_colour=df_colour.sort_values(by=\"Count\", ascending=False)"
   ]
  },
  {
   "cell_type": "code",
   "execution_count": null,
   "metadata": {},
   "outputs": [],
   "source": [
    "df_colour_reduced=df_colour.head(50)"
   ]
  },
  {
   "cell_type": "code",
   "execution_count": null,
   "metadata": {},
   "outputs": [],
   "source": [
    "boston_map5 = folium.Map(location=(42.361145, -71.057083),tiles='OpenStreetMap',zoom_start=12, control_scale=True, max_zoom=20)\n",
    "folium.CircleMarker(radius=10, location=(42.3522, -71.0555), popup=\"South Station - 700 Atlantic Ave.\", \n",
    "                                 color='red', fill_color='red').add_to(boston_map5)"
   ]
  },
  {
   "cell_type": "code",
   "execution_count": null,
   "metadata": {},
   "outputs": [],
   "source": [
    "positions_reduced = list(df_colour_reduced[\"Coordinates\"].unique())\n",
    "names_reduced=list(df_colour_reduced[\"end_station_name\"].unique())\n",
    "col_reduced=list(df_colour_reduced[\"Colour\"])\n",
    "i=0\n",
    "for position in positions_reduced:\n",
    "    a=(42.3522, -71.0555)\n",
    "    p=[]\n",
    "    p.append(a)\n",
    "    p.append(position)\n",
    "    p.append(a)\n",
    "    folium.PolyLine(p, weight=5, opacity=.3).add_to(boston_map5)\n",
    "    folium.CircleMarker(radius=5, location=position, popup=names_reduced[i], \n",
    "                                 color=col_reduced[i]).add_to(boston_map5)\n",
    "\n",
    "    i=i+1\n",
    "boston_map5"
   ]
  },
  {
   "cell_type": "markdown",
   "metadata": {},
   "source": [
    "It's interesting that many people (between 200-300) use their bike for the whole trip and return them at the same station (probably taking their train back)."
   ]
  },
  {
   "cell_type": "markdown",
   "metadata": {},
   "source": [
    "### Exemplary: Which stations are (most) approached by the least frequently used station? "
   ]
  },
  {
   "cell_type": "code",
   "execution_count": null,
   "metadata": {},
   "outputs": [],
   "source": [
    "boston_map6 = folium.Map(location=(42.361145, -71.057083),tiles='OpenStreetMap',zoom_start=12, control_scale=True, max_zoom=20)\n",
    "folium.CircleMarker(radius=10, location=(42.3035, -71.0853), popup=\"Franklin Park Zoo\", \n",
    "                                 color='red', fill_color='red').add_to(boston_map6)"
   ]
  },
  {
   "cell_type": "code",
   "execution_count": null,
   "metadata": {},
   "outputs": [],
   "source": [
    "df_rides_less_used=df_boston_full[df_boston_full[\"start_station_name\"]==\"Franklin Park Zoo\"]"
   ]
  },
  {
   "cell_type": "code",
   "execution_count": null,
   "metadata": {},
   "outputs": [],
   "source": [
    "driven_to_less=df_rides_less_used[\"end_station_name\"].unique()\n",
    "driven_to_coordinates_less=df_rides_less_used[\"Coordinates_end\"].unique()"
   ]
  },
  {
   "cell_type": "code",
   "execution_count": null,
   "metadata": {},
   "outputs": [],
   "source": [
    "dictLess=[]\n",
    "i=0\n",
    "for x in driven_to_less:\n",
    "    akt=df_rides_less_used[df_rides_less_used[\"end_station_name\"]==x]\n",
    "    colour=\"\"\n",
    "    if len(akt)<5:\n",
    "        colour=\"midnightblue\"\n",
    "    if len(akt)<10 and len(akt)>5:\n",
    "        colour=\"deepskyblue\"\n",
    "    if len(akt)<15 and len(akt)>10:\n",
    "        colour=\"thistle\"\n",
    "    if len(akt)<20 and len(akt)>15:\n",
    "        colour=\"orangered\"\n",
    "    if len(akt)>20:\n",
    "        colour=\"red\"\n",
    "        \n",
    "    a=driven_to_coordinates_less[i]\n",
    "    i=i+1\n",
    "    dictLess.append({\"end_station_name\":x, \"Count\":len(akt), \"Colour\": colour, \"Coordinates\":a})\n",
    "    colour=\"\"\n",
    "df_colour_less=pd.DataFrame.from_dict(dictLess)"
   ]
  },
  {
   "cell_type": "code",
   "execution_count": null,
   "metadata": {},
   "outputs": [],
   "source": [
    "positions_less = list(df_colour_less[\"Coordinates\"].unique())\n",
    "names_less=list(df_colour_less[\"end_station_name\"].unique())\n",
    "col_less=df_colour_less[\"Colour\"]\n",
    "i=0\n",
    "for position in positions_less:\n",
    "    a=(42.3035, -71.0853)\n",
    "    p=[]\n",
    "    p.append(a)\n",
    "    p.append(position)\n",
    "    p.append(a)\n",
    "    q=folium.PolyLine(p,strokeColor=col[i], weight=5, opacity=0.5)\n",
    "    q.add_to(boston_map6)\n",
    "    folium.CircleMarker(radius=5, location=position, popup=names[i], \n",
    "                                 color=col_less[i], fill_color='crimson').add_to(boston_map6)\n",
    "\n",
    "    i=i+1"
   ]
  },
  {
   "cell_type": "code",
   "execution_count": null,
   "metadata": {},
   "outputs": [],
   "source": [
    "boston_map6"
   ]
  },
  {
   "cell_type": "code",
   "execution_count": null,
   "metadata": {},
   "outputs": [],
   "source": []
  }
 ],
 "metadata": {
  "kernelspec": {
   "display_name": "Python 3",
   "language": "python",
   "name": "python3"
  },
  "language_info": {
   "codemirror_mode": {
    "name": "ipython",
    "version": 3
   },
   "file_extension": ".py",
   "mimetype": "text/x-python",
   "name": "python",
   "nbconvert_exporter": "python",
   "pygments_lexer": "ipython3",
   "version": "3.8.5"
  }
 },
 "nbformat": 4,
 "nbformat_minor": 4
}
