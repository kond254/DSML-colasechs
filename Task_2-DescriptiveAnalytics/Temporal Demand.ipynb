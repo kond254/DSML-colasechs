{
 "cells": [
  {
   "cell_type": "code",
   "execution_count": 485,
   "metadata": {},
   "outputs": [],
   "source": [
    "import numpy as np\n",
    "import pandas as pd\n",
    "from datetime import date, time, datetime, timedelta \n",
    "from dateutil import parser\n",
    "import matplotlib.pyplot as plt\n",
    "import seaborn as sns\n",
    "import numpy as np\n",
    "import math\n",
    "import random\n",
    "import timeit\n",
    "\n",
    "import warnings\n",
    "warnings.filterwarnings(\"ignore\")"
   ]
  },
  {
   "cell_type": "code",
   "execution_count": 486,
   "metadata": {},
   "outputs": [],
   "source": [
    "mydateparser = lambda x: datetime.strptime(x, \"%Y-%m-%d %H:%M:%S\")\n",
    "testboston=pd.read_csv(\"Boston/boston_2015.csv\", parse_dates=['start_time', \"end_time\"], date_parser=mydateparser)"
   ]
  },
  {
   "cell_type": "code",
   "execution_count": 487,
   "metadata": {},
   "outputs": [
    {
     "data": {
      "text/html": [
       "<div>\n",
       "<style scoped>\n",
       "    .dataframe tbody tr th:only-of-type {\n",
       "        vertical-align: middle;\n",
       "    }\n",
       "\n",
       "    .dataframe tbody tr th {\n",
       "        vertical-align: top;\n",
       "    }\n",
       "\n",
       "    .dataframe thead th {\n",
       "        text-align: right;\n",
       "    }\n",
       "</style>\n",
       "<table border=\"1\" class=\"dataframe\">\n",
       "  <thead>\n",
       "    <tr style=\"text-align: right;\">\n",
       "      <th></th>\n",
       "      <th>start_time</th>\n",
       "      <th>end_time</th>\n",
       "      <th>start_station_id</th>\n",
       "      <th>end_station_id</th>\n",
       "      <th>start_station_name</th>\n",
       "      <th>end_station_name</th>\n",
       "      <th>bike_id</th>\n",
       "      <th>user_type</th>\n",
       "    </tr>\n",
       "  </thead>\n",
       "  <tbody>\n",
       "    <tr>\n",
       "      <th>0</th>\n",
       "      <td>2015-01-01 00:21:44</td>\n",
       "      <td>2015-01-01 00:30:47</td>\n",
       "      <td>115</td>\n",
       "      <td>96</td>\n",
       "      <td>Porter Square Station</td>\n",
       "      <td>Cambridge Main Library at Broadway / Trowbridg...</td>\n",
       "      <td>277</td>\n",
       "      <td>Subscriber</td>\n",
       "    </tr>\n",
       "    <tr>\n",
       "      <th>1</th>\n",
       "      <td>2015-01-01 00:27:03</td>\n",
       "      <td>2015-01-01 00:34:21</td>\n",
       "      <td>80</td>\n",
       "      <td>95</td>\n",
       "      <td>MIT Stata Center at Vassar St / Main St</td>\n",
       "      <td>Cambridge St - at Columbia St / Webster Ave</td>\n",
       "      <td>648</td>\n",
       "      <td>Subscriber</td>\n",
       "    </tr>\n",
       "    <tr>\n",
       "      <th>2</th>\n",
       "      <td>2015-01-01 00:31:31</td>\n",
       "      <td>2015-01-01 00:35:46</td>\n",
       "      <td>91</td>\n",
       "      <td>68</td>\n",
       "      <td>One Kendall Square at Hampshire St / Portland St</td>\n",
       "      <td>Central Square at Mass Ave / Essex St</td>\n",
       "      <td>555</td>\n",
       "      <td>Subscriber</td>\n",
       "    </tr>\n",
       "    <tr>\n",
       "      <th>3</th>\n",
       "      <td>2015-01-01 00:53:46</td>\n",
       "      <td>2015-01-01 01:00:58</td>\n",
       "      <td>115</td>\n",
       "      <td>96</td>\n",
       "      <td>Porter Square Station</td>\n",
       "      <td>Cambridge Main Library at Broadway / Trowbridg...</td>\n",
       "      <td>1307</td>\n",
       "      <td>Subscriber</td>\n",
       "    </tr>\n",
       "    <tr>\n",
       "      <th>4</th>\n",
       "      <td>2015-01-01 01:07:06</td>\n",
       "      <td>2015-01-01 01:19:21</td>\n",
       "      <td>105</td>\n",
       "      <td>88</td>\n",
       "      <td>Lower Cambridgeport at Magazine St/Riverside Rd</td>\n",
       "      <td>Inman Square at Vellucci Plaza / Hampshire St</td>\n",
       "      <td>177</td>\n",
       "      <td>Customer</td>\n",
       "    </tr>\n",
       "    <tr>\n",
       "      <th>...</th>\n",
       "      <td>...</td>\n",
       "      <td>...</td>\n",
       "      <td>...</td>\n",
       "      <td>...</td>\n",
       "      <td>...</td>\n",
       "      <td>...</td>\n",
       "      <td>...</td>\n",
       "      <td>...</td>\n",
       "    </tr>\n",
       "    <tr>\n",
       "      <th>1122553</th>\n",
       "      <td>2015-12-31 23:35:04</td>\n",
       "      <td>2015-12-31 23:43:15</td>\n",
       "      <td>73</td>\n",
       "      <td>88</td>\n",
       "      <td>Harvard Square at Brattle St / Eliot St</td>\n",
       "      <td>Inman Square at Vellucci Plaza / Hampshire St</td>\n",
       "      <td>1473</td>\n",
       "      <td>Subscriber</td>\n",
       "    </tr>\n",
       "    <tr>\n",
       "      <th>1122554</th>\n",
       "      <td>2015-12-31 23:37:29</td>\n",
       "      <td>2015-12-31 23:47:36</td>\n",
       "      <td>135</td>\n",
       "      <td>43</td>\n",
       "      <td>ID Building East</td>\n",
       "      <td>Rowes Wharf - Atlantic Ave</td>\n",
       "      <td>649</td>\n",
       "      <td>Subscriber</td>\n",
       "    </tr>\n",
       "    <tr>\n",
       "      <th>1122555</th>\n",
       "      <td>2015-12-31 23:38:16</td>\n",
       "      <td>2015-12-31 23:47:26</td>\n",
       "      <td>135</td>\n",
       "      <td>43</td>\n",
       "      <td>ID Building East</td>\n",
       "      <td>Rowes Wharf - Atlantic Ave</td>\n",
       "      <td>1552</td>\n",
       "      <td>Subscriber</td>\n",
       "    </tr>\n",
       "    <tr>\n",
       "      <th>1122556</th>\n",
       "      <td>2015-12-31 23:46:04</td>\n",
       "      <td>2015-12-31 23:48:04</td>\n",
       "      <td>36</td>\n",
       "      <td>36</td>\n",
       "      <td>Boston Public Library - 700 Boylston St.</td>\n",
       "      <td>Boston Public Library - 700 Boylston St.</td>\n",
       "      <td>1083</td>\n",
       "      <td>Customer</td>\n",
       "    </tr>\n",
       "    <tr>\n",
       "      <th>1122557</th>\n",
       "      <td>2015-12-31 23:58:18</td>\n",
       "      <td>2016-01-01 00:12:54</td>\n",
       "      <td>105</td>\n",
       "      <td>6</td>\n",
       "      <td>Lower Cambridgeport at Magazine St/Riverside Rd</td>\n",
       "      <td>Cambridge St. at Joy St.</td>\n",
       "      <td>1305</td>\n",
       "      <td>Subscriber</td>\n",
       "    </tr>\n",
       "  </tbody>\n",
       "</table>\n",
       "<p>1122558 rows × 8 columns</p>\n",
       "</div>"
      ],
      "text/plain": [
       "                 start_time            end_time  start_station_id  \\\n",
       "0       2015-01-01 00:21:44 2015-01-01 00:30:47               115   \n",
       "1       2015-01-01 00:27:03 2015-01-01 00:34:21                80   \n",
       "2       2015-01-01 00:31:31 2015-01-01 00:35:46                91   \n",
       "3       2015-01-01 00:53:46 2015-01-01 01:00:58               115   \n",
       "4       2015-01-01 01:07:06 2015-01-01 01:19:21               105   \n",
       "...                     ...                 ...               ...   \n",
       "1122553 2015-12-31 23:35:04 2015-12-31 23:43:15                73   \n",
       "1122554 2015-12-31 23:37:29 2015-12-31 23:47:36               135   \n",
       "1122555 2015-12-31 23:38:16 2015-12-31 23:47:26               135   \n",
       "1122556 2015-12-31 23:46:04 2015-12-31 23:48:04                36   \n",
       "1122557 2015-12-31 23:58:18 2016-01-01 00:12:54               105   \n",
       "\n",
       "        end_station_id                                start_station_name  \\\n",
       "0                   96                             Porter Square Station   \n",
       "1                   95           MIT Stata Center at Vassar St / Main St   \n",
       "2                   68  One Kendall Square at Hampshire St / Portland St   \n",
       "3                   96                             Porter Square Station   \n",
       "4                   88   Lower Cambridgeport at Magazine St/Riverside Rd   \n",
       "...                ...                                               ...   \n",
       "1122553             88           Harvard Square at Brattle St / Eliot St   \n",
       "1122554             43                                  ID Building East   \n",
       "1122555             43                                  ID Building East   \n",
       "1122556             36          Boston Public Library - 700 Boylston St.   \n",
       "1122557              6   Lower Cambridgeport at Magazine St/Riverside Rd   \n",
       "\n",
       "                                          end_station_name  bike_id  \\\n",
       "0        Cambridge Main Library at Broadway / Trowbridg...      277   \n",
       "1              Cambridge St - at Columbia St / Webster Ave      648   \n",
       "2                    Central Square at Mass Ave / Essex St      555   \n",
       "3        Cambridge Main Library at Broadway / Trowbridg...     1307   \n",
       "4            Inman Square at Vellucci Plaza / Hampshire St      177   \n",
       "...                                                    ...      ...   \n",
       "1122553      Inman Square at Vellucci Plaza / Hampshire St     1473   \n",
       "1122554                         Rowes Wharf - Atlantic Ave      649   \n",
       "1122555                         Rowes Wharf - Atlantic Ave     1552   \n",
       "1122556           Boston Public Library - 700 Boylston St.     1083   \n",
       "1122557                           Cambridge St. at Joy St.     1305   \n",
       "\n",
       "          user_type  \n",
       "0        Subscriber  \n",
       "1        Subscriber  \n",
       "2        Subscriber  \n",
       "3        Subscriber  \n",
       "4          Customer  \n",
       "...             ...  \n",
       "1122553  Subscriber  \n",
       "1122554  Subscriber  \n",
       "1122555  Subscriber  \n",
       "1122556    Customer  \n",
       "1122557  Subscriber  \n",
       "\n",
       "[1122558 rows x 8 columns]"
      ]
     },
     "execution_count": 487,
     "metadata": {},
     "output_type": "execute_result"
    }
   ],
   "source": [
    "testboston "
   ]
  },
  {
   "cell_type": "code",
   "execution_count": 518,
   "metadata": {},
   "outputs": [],
   "source": [
    "#creating column 'Duration'\n",
    "testboston[\"Duration\"]=testboston[\"end_time\"]-testboston[\"start_time\"]\n"
   ]
  },
  {
   "cell_type": "code",
   "execution_count": 520,
   "metadata": {},
   "outputs": [
    {
     "data": {
      "text/html": [
       "<div>\n",
       "<style scoped>\n",
       "    .dataframe tbody tr th:only-of-type {\n",
       "        vertical-align: middle;\n",
       "    }\n",
       "\n",
       "    .dataframe tbody tr th {\n",
       "        vertical-align: top;\n",
       "    }\n",
       "\n",
       "    .dataframe thead th {\n",
       "        text-align: right;\n",
       "    }\n",
       "</style>\n",
       "<table border=\"1\" class=\"dataframe\">\n",
       "  <thead>\n",
       "    <tr style=\"text-align: right;\">\n",
       "      <th></th>\n",
       "      <th>start_time</th>\n",
       "      <th>end_time</th>\n",
       "      <th>start_station_id</th>\n",
       "      <th>end_station_id</th>\n",
       "      <th>start_station_name</th>\n",
       "      <th>end_station_name</th>\n",
       "      <th>bike_id</th>\n",
       "      <th>user_type</th>\n",
       "      <th>Duration</th>\n",
       "      <th>Weekday</th>\n",
       "      <th>season</th>\n",
       "    </tr>\n",
       "  </thead>\n",
       "  <tbody>\n",
       "    <tr>\n",
       "      <th>984979</th>\n",
       "      <td>2015-11-01 01:44:08</td>\n",
       "      <td>2015-11-01 01:08:25</td>\n",
       "      <td>8</td>\n",
       "      <td>76</td>\n",
       "      <td>Union Square - Brighton Ave. at Cambridge St.</td>\n",
       "      <td>Central Sq Post Office / Cambridge City Hall a...</td>\n",
       "      <td>1447</td>\n",
       "      <td>Subscriber</td>\n",
       "      <td>-1 days +23:24:17</td>\n",
       "      <td>6</td>\n",
       "      <td>4</td>\n",
       "    </tr>\n",
       "    <tr>\n",
       "      <th>984980</th>\n",
       "      <td>2015-11-01 01:47:16</td>\n",
       "      <td>2015-11-01 01:03:13</td>\n",
       "      <td>88</td>\n",
       "      <td>74</td>\n",
       "      <td>Inman Square at Vellucci Plaza / Hampshire St</td>\n",
       "      <td>Harvard Square at Mass Ave/ Dunster</td>\n",
       "      <td>865</td>\n",
       "      <td>Subscriber</td>\n",
       "      <td>-1 days +23:15:57</td>\n",
       "      <td>6</td>\n",
       "      <td>4</td>\n",
       "    </tr>\n",
       "    <tr>\n",
       "      <th>984981</th>\n",
       "      <td>2015-11-01 01:48:11</td>\n",
       "      <td>2015-11-01 01:13:02</td>\n",
       "      <td>57</td>\n",
       "      <td>132</td>\n",
       "      <td>Columbus Ave. at Mass. Ave.</td>\n",
       "      <td>Summer St at Cutter St</td>\n",
       "      <td>383</td>\n",
       "      <td>Subscriber</td>\n",
       "      <td>-1 days +23:24:51</td>\n",
       "      <td>6</td>\n",
       "      <td>4</td>\n",
       "    </tr>\n",
       "    <tr>\n",
       "      <th>984985</th>\n",
       "      <td>2015-11-01 01:50:17</td>\n",
       "      <td>2015-11-01 01:32:53</td>\n",
       "      <td>121</td>\n",
       "      <td>13</td>\n",
       "      <td>West Broadway at Dorchester St</td>\n",
       "      <td>Boston Medical Center -  East Concord at Harri...</td>\n",
       "      <td>196</td>\n",
       "      <td>Subscriber</td>\n",
       "      <td>-1 days +23:42:36</td>\n",
       "      <td>6</td>\n",
       "      <td>4</td>\n",
       "    </tr>\n",
       "    <tr>\n",
       "      <th>984986</th>\n",
       "      <td>2015-11-01 01:50:36</td>\n",
       "      <td>2015-11-01 01:28:45</td>\n",
       "      <td>121</td>\n",
       "      <td>13</td>\n",
       "      <td>West Broadway at Dorchester St</td>\n",
       "      <td>Boston Medical Center -  East Concord at Harri...</td>\n",
       "      <td>1371</td>\n",
       "      <td>Subscriber</td>\n",
       "      <td>-1 days +23:38:09</td>\n",
       "      <td>6</td>\n",
       "      <td>4</td>\n",
       "    </tr>\n",
       "    <tr>\n",
       "      <th>984987</th>\n",
       "      <td>2015-11-01 01:51:24</td>\n",
       "      <td>2015-11-01 01:03:22</td>\n",
       "      <td>161</td>\n",
       "      <td>20</td>\n",
       "      <td>West Broadway at D Street</td>\n",
       "      <td>Aquarium Station - 200 Atlantic Ave.</td>\n",
       "      <td>1019</td>\n",
       "      <td>Customer</td>\n",
       "      <td>-1 days +23:11:58</td>\n",
       "      <td>6</td>\n",
       "      <td>4</td>\n",
       "    </tr>\n",
       "    <tr>\n",
       "      <th>984988</th>\n",
       "      <td>2015-11-01 01:52:19</td>\n",
       "      <td>2015-11-01 01:03:00</td>\n",
       "      <td>88</td>\n",
       "      <td>74</td>\n",
       "      <td>Inman Square at Vellucci Plaza / Hampshire St</td>\n",
       "      <td>Harvard Square at Mass Ave/ Dunster</td>\n",
       "      <td>846</td>\n",
       "      <td>Subscriber</td>\n",
       "      <td>-1 days +23:10:41</td>\n",
       "      <td>6</td>\n",
       "      <td>4</td>\n",
       "    </tr>\n",
       "    <tr>\n",
       "      <th>984989</th>\n",
       "      <td>2015-11-01 01:53:11</td>\n",
       "      <td>2015-11-01 01:13:00</td>\n",
       "      <td>45</td>\n",
       "      <td>113</td>\n",
       "      <td>Yawkey Way at Boylston St.</td>\n",
       "      <td>Andrew Station - Dorchester Ave at Humboldt Pl</td>\n",
       "      <td>1503</td>\n",
       "      <td>Subscriber</td>\n",
       "      <td>-1 days +23:19:49</td>\n",
       "      <td>6</td>\n",
       "      <td>4</td>\n",
       "    </tr>\n",
       "    <tr>\n",
       "      <th>984990</th>\n",
       "      <td>2015-11-01 01:55:10</td>\n",
       "      <td>2015-11-01 01:06:18</td>\n",
       "      <td>33</td>\n",
       "      <td>67</td>\n",
       "      <td>Kenmore Sq / Comm Ave</td>\n",
       "      <td>MIT at Mass Ave / Amherst St</td>\n",
       "      <td>1376</td>\n",
       "      <td>Customer</td>\n",
       "      <td>-1 days +23:11:08</td>\n",
       "      <td>6</td>\n",
       "      <td>4</td>\n",
       "    </tr>\n",
       "    <tr>\n",
       "      <th>984991</th>\n",
       "      <td>2015-11-01 01:55:13</td>\n",
       "      <td>2015-11-01 01:07:03</td>\n",
       "      <td>45</td>\n",
       "      <td>4</td>\n",
       "      <td>Yawkey Way at Boylston St.</td>\n",
       "      <td>Tremont St. at Berkeley St.</td>\n",
       "      <td>369</td>\n",
       "      <td>Customer</td>\n",
       "      <td>-1 days +23:11:50</td>\n",
       "      <td>6</td>\n",
       "      <td>4</td>\n",
       "    </tr>\n",
       "    <tr>\n",
       "      <th>984992</th>\n",
       "      <td>2015-11-01 01:55:25</td>\n",
       "      <td>2015-11-01 01:07:00</td>\n",
       "      <td>117</td>\n",
       "      <td>54</td>\n",
       "      <td>Binney St / Sixth St</td>\n",
       "      <td>Tremont St / West St</td>\n",
       "      <td>1440</td>\n",
       "      <td>Subscriber</td>\n",
       "      <td>-1 days +23:11:35</td>\n",
       "      <td>6</td>\n",
       "      <td>4</td>\n",
       "    </tr>\n",
       "    <tr>\n",
       "      <th>984993</th>\n",
       "      <td>2015-11-01 01:56:51</td>\n",
       "      <td>2015-11-01 01:03:44</td>\n",
       "      <td>117</td>\n",
       "      <td>75</td>\n",
       "      <td>Binney St / Sixth St</td>\n",
       "      <td>Lafayette Square at Mass Ave / Main St / Colum...</td>\n",
       "      <td>582</td>\n",
       "      <td>Subscriber</td>\n",
       "      <td>-1 days +23:06:53</td>\n",
       "      <td>6</td>\n",
       "      <td>4</td>\n",
       "    </tr>\n",
       "    <tr>\n",
       "      <th>984994</th>\n",
       "      <td>2015-11-01 01:57:03</td>\n",
       "      <td>2015-11-01 01:16:44</td>\n",
       "      <td>57</td>\n",
       "      <td>79</td>\n",
       "      <td>Columbus Ave. at Mass. Ave.</td>\n",
       "      <td>Beacon St at Washington / Kirkland</td>\n",
       "      <td>786</td>\n",
       "      <td>Subscriber</td>\n",
       "      <td>-1 days +23:19:41</td>\n",
       "      <td>6</td>\n",
       "      <td>4</td>\n",
       "    </tr>\n",
       "    <tr>\n",
       "      <th>984995</th>\n",
       "      <td>2015-11-01 01:59:01</td>\n",
       "      <td>2015-11-01 01:06:10</td>\n",
       "      <td>79</td>\n",
       "      <td>77</td>\n",
       "      <td>Beacon St at Washington / Kirkland</td>\n",
       "      <td>Somerville City Hall</td>\n",
       "      <td>259</td>\n",
       "      <td>Subscriber</td>\n",
       "      <td>-1 days +23:07:09</td>\n",
       "      <td>6</td>\n",
       "      <td>4</td>\n",
       "    </tr>\n",
       "    <tr>\n",
       "      <th>984996</th>\n",
       "      <td>2015-11-01 01:59:25</td>\n",
       "      <td>2015-11-01 01:33:50</td>\n",
       "      <td>77</td>\n",
       "      <td>46</td>\n",
       "      <td>Somerville City Hall</td>\n",
       "      <td>Christian Science Plaza</td>\n",
       "      <td>461</td>\n",
       "      <td>Subscriber</td>\n",
       "      <td>-1 days +23:34:25</td>\n",
       "      <td>6</td>\n",
       "      <td>4</td>\n",
       "    </tr>\n",
       "    <tr>\n",
       "      <th>984997</th>\n",
       "      <td>2015-11-01 01:59:47</td>\n",
       "      <td>2015-11-01 01:33:36</td>\n",
       "      <td>77</td>\n",
       "      <td>46</td>\n",
       "      <td>Somerville City Hall</td>\n",
       "      <td>Christian Science Plaza</td>\n",
       "      <td>1170</td>\n",
       "      <td>Subscriber</td>\n",
       "      <td>-1 days +23:33:49</td>\n",
       "      <td>6</td>\n",
       "      <td>4</td>\n",
       "    </tr>\n",
       "    <tr>\n",
       "      <th>984999</th>\n",
       "      <td>2015-11-01 01:56:22</td>\n",
       "      <td>2015-11-01 01:05:01</td>\n",
       "      <td>139</td>\n",
       "      <td>91</td>\n",
       "      <td>Dana Park</td>\n",
       "      <td>One Kendall Square at Hampshire St / Portland St</td>\n",
       "      <td>508</td>\n",
       "      <td>Subscriber</td>\n",
       "      <td>-1 days +23:08:39</td>\n",
       "      <td>6</td>\n",
       "      <td>4</td>\n",
       "    </tr>\n",
       "  </tbody>\n",
       "</table>\n",
       "</div>"
      ],
      "text/plain": [
       "                start_time            end_time  start_station_id  \\\n",
       "984979 2015-11-01 01:44:08 2015-11-01 01:08:25                 8   \n",
       "984980 2015-11-01 01:47:16 2015-11-01 01:03:13                88   \n",
       "984981 2015-11-01 01:48:11 2015-11-01 01:13:02                57   \n",
       "984985 2015-11-01 01:50:17 2015-11-01 01:32:53               121   \n",
       "984986 2015-11-01 01:50:36 2015-11-01 01:28:45               121   \n",
       "984987 2015-11-01 01:51:24 2015-11-01 01:03:22               161   \n",
       "984988 2015-11-01 01:52:19 2015-11-01 01:03:00                88   \n",
       "984989 2015-11-01 01:53:11 2015-11-01 01:13:00                45   \n",
       "984990 2015-11-01 01:55:10 2015-11-01 01:06:18                33   \n",
       "984991 2015-11-01 01:55:13 2015-11-01 01:07:03                45   \n",
       "984992 2015-11-01 01:55:25 2015-11-01 01:07:00               117   \n",
       "984993 2015-11-01 01:56:51 2015-11-01 01:03:44               117   \n",
       "984994 2015-11-01 01:57:03 2015-11-01 01:16:44                57   \n",
       "984995 2015-11-01 01:59:01 2015-11-01 01:06:10                79   \n",
       "984996 2015-11-01 01:59:25 2015-11-01 01:33:50                77   \n",
       "984997 2015-11-01 01:59:47 2015-11-01 01:33:36                77   \n",
       "984999 2015-11-01 01:56:22 2015-11-01 01:05:01               139   \n",
       "\n",
       "        end_station_id                             start_station_name  \\\n",
       "984979              76  Union Square - Brighton Ave. at Cambridge St.   \n",
       "984980              74  Inman Square at Vellucci Plaza / Hampshire St   \n",
       "984981             132                    Columbus Ave. at Mass. Ave.   \n",
       "984985              13                 West Broadway at Dorchester St   \n",
       "984986              13                 West Broadway at Dorchester St   \n",
       "984987              20                      West Broadway at D Street   \n",
       "984988              74  Inman Square at Vellucci Plaza / Hampshire St   \n",
       "984989             113                     Yawkey Way at Boylston St.   \n",
       "984990              67                          Kenmore Sq / Comm Ave   \n",
       "984991               4                     Yawkey Way at Boylston St.   \n",
       "984992              54                           Binney St / Sixth St   \n",
       "984993              75                           Binney St / Sixth St   \n",
       "984994              79                    Columbus Ave. at Mass. Ave.   \n",
       "984995              77             Beacon St at Washington / Kirkland   \n",
       "984996              46                           Somerville City Hall   \n",
       "984997              46                           Somerville City Hall   \n",
       "984999              91                                      Dana Park   \n",
       "\n",
       "                                         end_station_name  bike_id  \\\n",
       "984979  Central Sq Post Office / Cambridge City Hall a...     1447   \n",
       "984980                Harvard Square at Mass Ave/ Dunster      865   \n",
       "984981                             Summer St at Cutter St      383   \n",
       "984985  Boston Medical Center -  East Concord at Harri...      196   \n",
       "984986  Boston Medical Center -  East Concord at Harri...     1371   \n",
       "984987               Aquarium Station - 200 Atlantic Ave.     1019   \n",
       "984988                Harvard Square at Mass Ave/ Dunster      846   \n",
       "984989     Andrew Station - Dorchester Ave at Humboldt Pl     1503   \n",
       "984990                       MIT at Mass Ave / Amherst St     1376   \n",
       "984991                        Tremont St. at Berkeley St.      369   \n",
       "984992                               Tremont St / West St     1440   \n",
       "984993  Lafayette Square at Mass Ave / Main St / Colum...      582   \n",
       "984994                 Beacon St at Washington / Kirkland      786   \n",
       "984995                               Somerville City Hall      259   \n",
       "984996                            Christian Science Plaza      461   \n",
       "984997                            Christian Science Plaza     1170   \n",
       "984999   One Kendall Square at Hampshire St / Portland St      508   \n",
       "\n",
       "         user_type          Duration  Weekday  season  \n",
       "984979  Subscriber -1 days +23:24:17        6       4  \n",
       "984980  Subscriber -1 days +23:15:57        6       4  \n",
       "984981  Subscriber -1 days +23:24:51        6       4  \n",
       "984985  Subscriber -1 days +23:42:36        6       4  \n",
       "984986  Subscriber -1 days +23:38:09        6       4  \n",
       "984987    Customer -1 days +23:11:58        6       4  \n",
       "984988  Subscriber -1 days +23:10:41        6       4  \n",
       "984989  Subscriber -1 days +23:19:49        6       4  \n",
       "984990    Customer -1 days +23:11:08        6       4  \n",
       "984991    Customer -1 days +23:11:50        6       4  \n",
       "984992  Subscriber -1 days +23:11:35        6       4  \n",
       "984993  Subscriber -1 days +23:06:53        6       4  \n",
       "984994  Subscriber -1 days +23:19:41        6       4  \n",
       "984995  Subscriber -1 days +23:07:09        6       4  \n",
       "984996  Subscriber -1 days +23:34:25        6       4  \n",
       "984997  Subscriber -1 days +23:33:49        6       4  \n",
       "984999  Subscriber -1 days +23:08:39        6       4  "
      ]
     },
     "execution_count": 520,
     "metadata": {},
     "output_type": "execute_result"
    }
   ],
   "source": [
    "x= timedelta(days= 0)\n",
    "testboston[testboston[\"Duration\"]<x]\n"
   ]
  },
  {
   "cell_type": "code",
   "execution_count": 489,
   "metadata": {},
   "outputs": [],
   "source": [
    "indx = testboston[testboston[\"end_time\"]<testboston[\"start_time\"]].index\n",
    "testboston['Duration'][indx] = pd.Timedelta('0 days 00:00:00')"
   ]
  },
  {
   "cell_type": "markdown",
   "metadata": {},
   "source": [
    "We noticed that the rows between the start_time 2015-11-01 01:44:08 and 2015-11-01 01:59:47 have end_time's that are smaller than the start_time in each row. So we assumed that most likely a error has occured. So we decided to set their duriation to 0 so it dosen't interfere with the other data without losing information."
   ]
  },
  {
   "cell_type": "code",
   "execution_count": 490,
   "metadata": {},
   "outputs": [
    {
     "data": {
      "text/html": [
       "<div>\n",
       "<style scoped>\n",
       "    .dataframe tbody tr th:only-of-type {\n",
       "        vertical-align: middle;\n",
       "    }\n",
       "\n",
       "    .dataframe tbody tr th {\n",
       "        vertical-align: top;\n",
       "    }\n",
       "\n",
       "    .dataframe thead th {\n",
       "        text-align: right;\n",
       "    }\n",
       "</style>\n",
       "<table border=\"1\" class=\"dataframe\">\n",
       "  <thead>\n",
       "    <tr style=\"text-align: right;\">\n",
       "      <th></th>\n",
       "      <th>start_time</th>\n",
       "      <th>end_time</th>\n",
       "      <th>start_station_id</th>\n",
       "      <th>end_station_id</th>\n",
       "      <th>start_station_name</th>\n",
       "      <th>end_station_name</th>\n",
       "      <th>bike_id</th>\n",
       "      <th>user_type</th>\n",
       "      <th>Duration</th>\n",
       "    </tr>\n",
       "  </thead>\n",
       "  <tbody>\n",
       "    <tr>\n",
       "      <th>0</th>\n",
       "      <td>2015-01-01 00:21:44</td>\n",
       "      <td>2015-01-01 00:30:47</td>\n",
       "      <td>115</td>\n",
       "      <td>96</td>\n",
       "      <td>Porter Square Station</td>\n",
       "      <td>Cambridge Main Library at Broadway / Trowbridg...</td>\n",
       "      <td>277</td>\n",
       "      <td>Subscriber</td>\n",
       "      <td>0 days 00:09:03</td>\n",
       "    </tr>\n",
       "    <tr>\n",
       "      <th>1</th>\n",
       "      <td>2015-01-01 00:27:03</td>\n",
       "      <td>2015-01-01 00:34:21</td>\n",
       "      <td>80</td>\n",
       "      <td>95</td>\n",
       "      <td>MIT Stata Center at Vassar St / Main St</td>\n",
       "      <td>Cambridge St - at Columbia St / Webster Ave</td>\n",
       "      <td>648</td>\n",
       "      <td>Subscriber</td>\n",
       "      <td>0 days 00:07:18</td>\n",
       "    </tr>\n",
       "    <tr>\n",
       "      <th>2</th>\n",
       "      <td>2015-01-01 00:31:31</td>\n",
       "      <td>2015-01-01 00:35:46</td>\n",
       "      <td>91</td>\n",
       "      <td>68</td>\n",
       "      <td>One Kendall Square at Hampshire St / Portland St</td>\n",
       "      <td>Central Square at Mass Ave / Essex St</td>\n",
       "      <td>555</td>\n",
       "      <td>Subscriber</td>\n",
       "      <td>0 days 00:04:15</td>\n",
       "    </tr>\n",
       "    <tr>\n",
       "      <th>3</th>\n",
       "      <td>2015-01-01 00:53:46</td>\n",
       "      <td>2015-01-01 01:00:58</td>\n",
       "      <td>115</td>\n",
       "      <td>96</td>\n",
       "      <td>Porter Square Station</td>\n",
       "      <td>Cambridge Main Library at Broadway / Trowbridg...</td>\n",
       "      <td>1307</td>\n",
       "      <td>Subscriber</td>\n",
       "      <td>0 days 00:07:12</td>\n",
       "    </tr>\n",
       "    <tr>\n",
       "      <th>4</th>\n",
       "      <td>2015-01-01 01:07:06</td>\n",
       "      <td>2015-01-01 01:19:21</td>\n",
       "      <td>105</td>\n",
       "      <td>88</td>\n",
       "      <td>Lower Cambridgeport at Magazine St/Riverside Rd</td>\n",
       "      <td>Inman Square at Vellucci Plaza / Hampshire St</td>\n",
       "      <td>177</td>\n",
       "      <td>Customer</td>\n",
       "      <td>0 days 00:12:15</td>\n",
       "    </tr>\n",
       "    <tr>\n",
       "      <th>...</th>\n",
       "      <td>...</td>\n",
       "      <td>...</td>\n",
       "      <td>...</td>\n",
       "      <td>...</td>\n",
       "      <td>...</td>\n",
       "      <td>...</td>\n",
       "      <td>...</td>\n",
       "      <td>...</td>\n",
       "      <td>...</td>\n",
       "    </tr>\n",
       "    <tr>\n",
       "      <th>1122553</th>\n",
       "      <td>2015-12-31 23:35:04</td>\n",
       "      <td>2015-12-31 23:43:15</td>\n",
       "      <td>73</td>\n",
       "      <td>88</td>\n",
       "      <td>Harvard Square at Brattle St / Eliot St</td>\n",
       "      <td>Inman Square at Vellucci Plaza / Hampshire St</td>\n",
       "      <td>1473</td>\n",
       "      <td>Subscriber</td>\n",
       "      <td>0 days 00:08:11</td>\n",
       "    </tr>\n",
       "    <tr>\n",
       "      <th>1122554</th>\n",
       "      <td>2015-12-31 23:37:29</td>\n",
       "      <td>2015-12-31 23:47:36</td>\n",
       "      <td>135</td>\n",
       "      <td>43</td>\n",
       "      <td>ID Building East</td>\n",
       "      <td>Rowes Wharf - Atlantic Ave</td>\n",
       "      <td>649</td>\n",
       "      <td>Subscriber</td>\n",
       "      <td>0 days 00:10:07</td>\n",
       "    </tr>\n",
       "    <tr>\n",
       "      <th>1122555</th>\n",
       "      <td>2015-12-31 23:38:16</td>\n",
       "      <td>2015-12-31 23:47:26</td>\n",
       "      <td>135</td>\n",
       "      <td>43</td>\n",
       "      <td>ID Building East</td>\n",
       "      <td>Rowes Wharf - Atlantic Ave</td>\n",
       "      <td>1552</td>\n",
       "      <td>Subscriber</td>\n",
       "      <td>0 days 00:09:10</td>\n",
       "    </tr>\n",
       "    <tr>\n",
       "      <th>1122556</th>\n",
       "      <td>2015-12-31 23:46:04</td>\n",
       "      <td>2015-12-31 23:48:04</td>\n",
       "      <td>36</td>\n",
       "      <td>36</td>\n",
       "      <td>Boston Public Library - 700 Boylston St.</td>\n",
       "      <td>Boston Public Library - 700 Boylston St.</td>\n",
       "      <td>1083</td>\n",
       "      <td>Customer</td>\n",
       "      <td>0 days 00:02:00</td>\n",
       "    </tr>\n",
       "    <tr>\n",
       "      <th>1122557</th>\n",
       "      <td>2015-12-31 23:58:18</td>\n",
       "      <td>2016-01-01 00:12:54</td>\n",
       "      <td>105</td>\n",
       "      <td>6</td>\n",
       "      <td>Lower Cambridgeport at Magazine St/Riverside Rd</td>\n",
       "      <td>Cambridge St. at Joy St.</td>\n",
       "      <td>1305</td>\n",
       "      <td>Subscriber</td>\n",
       "      <td>0 days 00:14:36</td>\n",
       "    </tr>\n",
       "  </tbody>\n",
       "</table>\n",
       "<p>1122557 rows × 9 columns</p>\n",
       "</div>"
      ],
      "text/plain": [
       "                 start_time            end_time  start_station_id  \\\n",
       "0       2015-01-01 00:21:44 2015-01-01 00:30:47               115   \n",
       "1       2015-01-01 00:27:03 2015-01-01 00:34:21                80   \n",
       "2       2015-01-01 00:31:31 2015-01-01 00:35:46                91   \n",
       "3       2015-01-01 00:53:46 2015-01-01 01:00:58               115   \n",
       "4       2015-01-01 01:07:06 2015-01-01 01:19:21               105   \n",
       "...                     ...                 ...               ...   \n",
       "1122553 2015-12-31 23:35:04 2015-12-31 23:43:15                73   \n",
       "1122554 2015-12-31 23:37:29 2015-12-31 23:47:36               135   \n",
       "1122555 2015-12-31 23:38:16 2015-12-31 23:47:26               135   \n",
       "1122556 2015-12-31 23:46:04 2015-12-31 23:48:04                36   \n",
       "1122557 2015-12-31 23:58:18 2016-01-01 00:12:54               105   \n",
       "\n",
       "        end_station_id                                start_station_name  \\\n",
       "0                   96                             Porter Square Station   \n",
       "1                   95           MIT Stata Center at Vassar St / Main St   \n",
       "2                   68  One Kendall Square at Hampshire St / Portland St   \n",
       "3                   96                             Porter Square Station   \n",
       "4                   88   Lower Cambridgeport at Magazine St/Riverside Rd   \n",
       "...                ...                                               ...   \n",
       "1122553             88           Harvard Square at Brattle St / Eliot St   \n",
       "1122554             43                                  ID Building East   \n",
       "1122555             43                                  ID Building East   \n",
       "1122556             36          Boston Public Library - 700 Boylston St.   \n",
       "1122557              6   Lower Cambridgeport at Magazine St/Riverside Rd   \n",
       "\n",
       "                                          end_station_name  bike_id  \\\n",
       "0        Cambridge Main Library at Broadway / Trowbridg...      277   \n",
       "1              Cambridge St - at Columbia St / Webster Ave      648   \n",
       "2                    Central Square at Mass Ave / Essex St      555   \n",
       "3        Cambridge Main Library at Broadway / Trowbridg...     1307   \n",
       "4            Inman Square at Vellucci Plaza / Hampshire St      177   \n",
       "...                                                    ...      ...   \n",
       "1122553      Inman Square at Vellucci Plaza / Hampshire St     1473   \n",
       "1122554                         Rowes Wharf - Atlantic Ave      649   \n",
       "1122555                         Rowes Wharf - Atlantic Ave     1552   \n",
       "1122556           Boston Public Library - 700 Boylston St.     1083   \n",
       "1122557                           Cambridge St. at Joy St.     1305   \n",
       "\n",
       "          user_type        Duration  \n",
       "0        Subscriber 0 days 00:09:03  \n",
       "1        Subscriber 0 days 00:07:18  \n",
       "2        Subscriber 0 days 00:04:15  \n",
       "3        Subscriber 0 days 00:07:12  \n",
       "4          Customer 0 days 00:12:15  \n",
       "...             ...             ...  \n",
       "1122553  Subscriber 0 days 00:08:11  \n",
       "1122554  Subscriber 0 days 00:10:07  \n",
       "1122555  Subscriber 0 days 00:09:10  \n",
       "1122556    Customer 0 days 00:02:00  \n",
       "1122557  Subscriber 0 days 00:14:36  \n",
       "\n",
       "[1122557 rows x 9 columns]"
      ]
     },
     "execution_count": 490,
     "metadata": {},
     "output_type": "execute_result"
    }
   ],
   "source": [
    "testboston = testboston.drop(testboston.index[21566])\n",
    "testboston"
   ]
  },
  {
   "cell_type": "markdown",
   "metadata": {},
   "source": [
    "We dropped the row with index 21566 , because it has no end_time. A possible reason could be, that it was stolen or broke while using it."
   ]
  },
  {
   "cell_type": "code",
   "execution_count": 491,
   "metadata": {},
   "outputs": [],
   "source": [
    "testboston['end_station_id'] = testboston['end_station_id'].astype(int)"
   ]
  },
  {
   "cell_type": "code",
   "execution_count": 494,
   "metadata": {},
   "outputs": [],
   "source": [
    "def get_weekday (ts):\n",
    "    return ts.weekday()\n",
    "#0=Monday 6=Sunday\n",
    "testboston[\"Weekday\"]=testboston[\"start_time\"].apply(lambda x:get_weekday(x))\n"
   ]
  },
  {
   "cell_type": "code",
   "execution_count": 495,
   "metadata": {},
   "outputs": [],
   "source": [
    "#is weekend or not\n",
    "workweek =testboston[testboston['Weekday']<5]\n",
    "weekend = testboston[testboston['Weekday']>4]\n"
   ]
  },
  {
   "cell_type": "code",
   "execution_count": 496,
   "metadata": {},
   "outputs": [
    {
     "data": {
      "text/plain": [
       "{1: 1, 2: 1, 3: 2, 4: 2, 5: 2, 6: 3, 7: 3, 8: 3, 9: 4, 10: 4, 11: 4, 12: 1}"
      ]
     },
     "execution_count": 496,
     "metadata": {},
     "output_type": "execute_result"
    }
   ],
   "source": [
    "seasons = [1, 1, 2, 2, 2, 3, 3, 3, 4, 4, 4, 1]\n",
    "month_to_season = {}\n",
    "for k in range(1, 13):\n",
    "    month_to_season[k]= seasons[k-1]\n",
    "month_to_season\n",
    "# 1= winter , 2= spring , 3= summer , 4= fall\n",
    "\n"
   ]
  },
  {
   "cell_type": "code",
   "execution_count": 497,
   "metadata": {},
   "outputs": [],
   "source": [
    "testboston = testboston.assign(season=lambda x: x[\"start_time\"].apply(lambda s: month_to_season[s.month]))"
   ]
  },
  {
   "cell_type": "code",
   "execution_count": 498,
   "metadata": {},
   "outputs": [],
   "source": [
    "# create dataframe for each season\n",
    "spring = testboston[testboston['season']==2]\n",
    "summer = testboston[testboston['season']==3]\n",
    "autumn = testboston[testboston['season']==4]\n",
    "winter = testboston[testboston['season']==1]\n",
    "\n"
   ]
  },
  {
   "cell_type": "code",
   "execution_count": 499,
   "metadata": {},
   "outputs": [],
   "source": [
    "# creating function to plot any dictionary\n",
    "def plotting(dict0):\n",
    "    plt.bar(range(len(dict0)), list(dict0.values()), align='center')\n",
    "    plt.xticks(range(len(dict0)), list(dict0.keys()))\n",
    "    plt.show()"
   ]
  },
  {
   "cell_type": "code",
   "execution_count": 501,
   "metadata": {},
   "outputs": [],
   "source": [
    "def demand_hour(df):\n",
    "    dict_dem={}\n",
    "    for i in range(24):\n",
    "        dict_dem[i]=0\n",
    "    dict_dem\n",
    "\n",
    "    time = pd.Series(dict_dem)\n",
    "    for x in range(len(df)):\n",
    "        if x==21566:\n",
    "            x=x+1\n",
    "        akt=testboston[\"start_time\"][x]\n",
    "        dict_dem[akt.hour]=(dict_dem[akt.hour])+1\n",
    "    print(dict_dem)\n",
    "    return dict_dem"
   ]
  },
  {
   "cell_type": "markdown",
   "metadata": {},
   "source": [
    "We have created a function to calculate the demand of bikes at each hour of the day, by counting how many instances have there start_time in the same hour. The count is stored in a dictionary."
   ]
  },
  {
   "cell_type": "code",
   "execution_count": 502,
   "metadata": {},
   "outputs": [
    {
     "name": "stdout",
     "output_type": "stream",
     "text": [
      "{0: 8982, 1: 5534, 2: 3472, 3: 1130, 4: 1146, 5: 5958, 6: 24262, 7: 64556, 8: 101336, 9: 60969, 10: 45736, 11: 51147, 12: 60862, 13: 61518, 14: 60746, 15: 67625, 16: 95211, 17: 129992, 18: 93847, 19: 64928, 20: 43517, 21: 31338, 22: 23592, 23: 15153}\n"
     ]
    },
    {
     "data": {
      "image/png": "[encoded data removed]",
      "text/plain": [
       "<Figure size 432x288 with 1 Axes>"
      ]
     },
     "metadata": {
      "needs_background": "light"
     },
     "output_type": "display_data"
    }
   ],
   "source": [
    "plotting(demand_hour(testboston))"
   ]
  },
  {
   "cell_type": "code",
   "execution_count": 525,
   "metadata": {},
   "outputs": [],
   "source": [
    "#usage_perHour_allyear\n",
    "def per_hour(dataframe):\n",
    "    dict_df = {}\n",
    "\n",
    "    for i in range(0, 24):\n",
    "        dict_df[i] = 0\n",
    "\n",
    "    for i in range(0, len(dataframe)):\n",
    "        if i == 21566:\n",
    "            i = i+1\n",
    "        if dataframe['Duration'][i].total_seconds() >= 0 : \n",
    "            k = dataframe['Duration'][i].total_seconds()\n",
    "            k = int(k/3600)\n",
    "            for j in range(k):\n",
    "                dict_df[(dataframe['start_time'][i].hour+k)%24] +=1\n",
    "        \n",
    "        #for j in range(dataframe[\"start_time\"][i].hour,dataframe[\"end_time\"][i].hour ): #+1\n",
    "           # dict_df[j] += 1\n",
    "    #print(dict_df)\n",
    "    return dict_df"
   ]
  },
  {
   "cell_type": "markdown",
   "metadata": {},
   "source": [
    "The code above calculates the usage. Diffrent to the demand function it also computes how long a bike is beeing rented, thus giving us information when most bikes are in use and unavailable."
   ]
  },
  {
   "cell_type": "code",
   "execution_count": 524,
   "metadata": {},
   "outputs": [
    {
     "data": {
      "image/png": "[encoded data removed]",
      "text/plain": [
       "<Figure size 432x288 with 1 Axes>"
      ]
     },
     "metadata": {
      "needs_background": "light"
     },
     "output_type": "display_data"
    }
   ],
   "source": [
    "plotting(per_hour(testboston))"
   ]
  },
  {
   "cell_type": "code",
   "execution_count": 526,
   "metadata": {},
   "outputs": [
    {
     "name": "stdout",
     "output_type": "stream",
     "text": [
      "{0: 7126, 1: 4322, 2: 2730, 3: 900, 4: 945, 5: 4771, 6: 18821, 7: 48838, 8: 75102, 9: 45496, 10: 34728, 11: 38952, 12: 46713, 13: 47007, 14: 46358, 15: 51832, 16: 73571, 17: 101720, 18: 74862, 19: 52467, 20: 34972, 21: 25043, 22: 19066, 23: 12208}\n"
     ]
    },
    {
     "data": {
      "image/png": "[encoded data removed]",
      "text/plain": [
       "<Figure size 432x288 with 1 Axes>"
      ]
     },
     "metadata": {
      "needs_background": "light"
     },
     "output_type": "display_data"
    },
    {
     "name": "stdout",
     "output_type": "stream",
     "text": [
      "{0: 2016, 1: 1359, 2: 855, 3: 277, 4: 255, 5: 1194, 6: 4900, 7: 13443, 8: 21288, 9: 14074, 10: 10947, 11: 12455, 12: 14589, 13: 14603, 14: 14672, 15: 15604, 16: 21633, 17: 29187, 18: 21591, 19: 14739, 20: 9405, 21: 6680, 22: 5083, 23: 3158}\n"
     ]
    },
    {
     "data": {
      "image/png": "[encoded data removed]",
      "text/plain": [
       "<Figure size 432x288 with 1 Axes>"
      ]
     },
     "metadata": {
      "needs_background": "light"
     },
     "output_type": "display_data"
    }
   ],
   "source": [
    "plotting(demand_hour(workweek))\n",
    "plotting(demand_hour(weekend))"
   ]
  },
  {
   "cell_type": "markdown",
   "metadata": {},
   "source": [
    "The two bar charts above show te demand per hour during the work-week and the weekend. The distribution seem very similar, but looking at the number of rented bikes it can be observed that there is way more demand during the work-week. As an an example at 17 o'clock 101720 customers rented a bike compared to just 29187 customers on the weekend.     "
   ]
  },
  {
   "cell_type": "code",
   "execution_count": 522,
   "metadata": {},
   "outputs": [
    {
     "name": "stdout",
     "output_type": "stream",
     "text": [
      "{0: 3951, 1: 2502, 2: 1549, 3: 485, 4: 502, 5: 2533, 6: 10006, 7: 25769, 8: 40250, 9: 25310, 10: 19278, 11: 22020, 12: 25971, 13: 26262, 14: 26259, 15: 29319, 16: 40795, 17: 55929, 18: 41121, 19: 29229, 20: 19618, 21: 13741, 22: 10372, 23: 6847}\n"
     ]
    },
    {
     "data": {
      "image/png": "[encoded data removed]",
      "text/plain": [
       "<Figure size 432x288 with 1 Axes>"
      ]
     },
     "metadata": {
      "needs_background": "light"
     },
     "output_type": "display_data"
    },
    {
     "name": "stdout",
     "output_type": "stream",
     "text": [
      "{0: 516, 1: 336, 2: 215, 3: 76, 4: 55, 5: 212, 6: 875, 7: 2607, 8: 5407, 9: 4164, 10: 3177, 11: 3219, 12: 3637, 13: 3520, 14: 3709, 15: 3601, 16: 4888, 17: 6351, 18: 5095, 19: 3425, 20: 2127, 21: 1597, 22: 1221, 23: 746}\n"
     ]
    },
    {
     "data": {
      "image/png": "[encoded data removed]",
      "text/plain": [
       "<Figure size 432x288 with 1 Axes>"
      ]
     },
     "metadata": {
      "needs_background": "light"
     },
     "output_type": "display_data"
    }
   ],
   "source": [
    "plotting(demand_hour(summer))\n",
    "plotting(demand_hour(winter))"
   ]
  },
  {
   "cell_type": "markdown",
   "metadata": {},
   "source": [
    "Similar to the way the demand differs between work-week and weekend, so is the biggest diffrence between the periods summer and winter not the distribution, but the amount of total customers. Still it can be observed that during winter the demand at both peak times, 8 and 17 o'clock, are close to each other than during summer."
   ]
  },
  {
   "cell_type": "code",
   "execution_count": 527,
   "metadata": {},
   "outputs": [],
   "source": [
    "#dem_perWeekday_allyear\n",
    "def dem_perweek(dataframe):\n",
    "    dict_df1 = {}\n",
    "    for i in range(0, 7):\n",
    "        dict_df1[i] = 0\n",
    "   \n",
    "    for x in range(len(dataframe)):\n",
    "        if x == 21566:\n",
    "             x=x+1\n",
    "        b = dataframe['start_time'][x].dayofweek\n",
    "        dict_df1[b] = (dict_df1[b])+1\n",
    "    return dict_df1\n",
    "             "
   ]
  },
  {
   "cell_type": "code",
   "execution_count": 528,
   "metadata": {},
   "outputs": [
    {
     "data": {
      "image/png": "[encoded data removed]",
      "text/plain": [
       "<Figure size 432x288 with 1 Axes>"
      ]
     },
     "metadata": {
      "needs_background": "light"
     },
     "output_type": "display_data"
    }
   ],
   "source": [
    "plotting(dem_perweek(testboston))"
   ]
  },
  {
   "cell_type": "markdown",
   "metadata": {},
   "source": [
    "Here we made a plot to see more clearly how the demand varies during each day of the week. There seems to be a slight increase from Monday to Thursday, afterwards at Saturday and Sunday there is a obvious drop in demand.  "
   ]
  },
  {
   "cell_type": "code",
   "execution_count": 509,
   "metadata": {},
   "outputs": [],
   "source": [
    "#usage_perWeekday_allyear\n",
    "def use_perweek(df):\n",
    "    dict_df1 = {}\n",
    "    for i in range(0, 7):\n",
    "        dict_df1[i] = 0\n",
    "\n",
    "    for i in range(0, len(df)):\n",
    "        if i == 21566:\n",
    "            continue\n",
    "        for j in range(df['start_time'][i].dayofweek, df['end_time'][i].dayofweek +1  ):\n",
    "                dict_df1[j] += 1\n",
    "    return dict_df1 \n"
   ]
  },
  {
   "cell_type": "code",
   "execution_count": 510,
   "metadata": {},
   "outputs": [
    {
     "data": {
      "image/png": "[encoded data removed]",
      "text/plain": [
       "<Figure size 432x288 with 1 Axes>"
      ]
     },
     "metadata": {
      "needs_background": "light"
     },
     "output_type": "display_data"
    }
   ],
   "source": [
    "plotting(use_perweek(testboston))"
   ]
  },
  {
   "cell_type": "markdown",
   "metadata": {},
   "source": [
    "Similar to the plot before, we wanted to see how the usage changes over the coures of a week. If the plots aren't much alike it could indicate that e.g less people rent bikes on weekend but for longer periods. However the results are not much diffrent that the results for demand. "
   ]
  }
 ],
 "metadata": {
  "kernelspec": {
   "display_name": "Python 3",
   "language": "python",
   "name": "python3"
  },
  "language_info": {
   "codemirror_mode": {
    "name": "ipython",
    "version": 3
   },
   "file_extension": ".py",
   "mimetype": "text/x-python",
   "name": "python",
   "nbconvert_exporter": "python",
   "pygments_lexer": "ipython3",
   "version": "3.8.5"
  }
 },
 "nbformat": 4,
 "nbformat_minor": 4
}
