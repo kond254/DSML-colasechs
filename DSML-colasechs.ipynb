{
 "cells": [
  {
   "cell_type": "markdown",
   "source": "# DSML-Colasechs",
   "metadata": {
    "cell_id": "00000-b0ec4c8f-1dfc-4915-9b49-2270b4686119",
    "deepnote_cell_type": "markdown"
   }
  },
  {
   "cell_type": "code",
   "metadata": {
    "cell_id": "00002-1979d4b6-b964-470e-8dec-a5618b8a7177",
    "deepnote_to_be_reexecuted": false,
    "source_hash": "9b82ee11",
    "execution_start": 1620729624146,
    "execution_millis": 7,
    "deepnote_cell_type": "code"
   },
   "source": "import pandas as pd",
   "execution_count": 1,
   "outputs": []
  },
  {
   "cell_type": "code",
   "source": "weather_file = pd.read_csv(\"weather_hourly_boston.csv\")\nweather_file.describe()\n#dropna(self, axis=0, how=\"any\", thresh=None, subset=None, inplace=False)",
   "metadata": {
    "tags": [],
    "cell_id": "00004-2f6ea817-7d40-48ac-ad5b-50d92a365753",
    "deepnote_to_be_reexecuted": false,
    "source_hash": "ee259227",
    "execution_start": 1620729624156,
    "execution_millis": 90,
    "deepnote_cell_type": "code"
   },
   "outputs": [
    {
     "output_type": "execute_result",
     "execution_count": 2,
     "data": {
      "application/vnd.deepnote.dataframe.v2+json": {
       "row_count": 8,
       "column_count": 3,
       "columns": [
        {
         "name": "max_temp",
         "dtype": "float64",
         "stats": {
          "unique_count": 8,
          "nan_count": 0,
          "min": "-22.8",
          "max": "43354.0",
          "histogram": [
           {
            "bin_start": -22.8,
            "bin_end": 4314.88,
            "count": 7
           },
           {
            "bin_start": 4314.88,
            "bin_end": 8652.560000000001,
            "count": 0
           },
           {
            "bin_start": 8652.560000000001,
            "bin_end": 12990.240000000002,
            "count": 0
           },
           {
            "bin_start": 12990.240000000002,
            "bin_end": 17327.920000000002,
            "count": 0
           },
           {
            "bin_start": 17327.920000000002,
            "bin_end": 21665.600000000002,
            "count": 0
           },
           {
            "bin_start": 21665.600000000002,
            "bin_end": 26003.280000000002,
            "count": 0
           },
           {
            "bin_start": 26003.280000000002,
            "bin_end": 30340.960000000003,
            "count": 0
           },
           {
            "bin_start": 30340.960000000003,
            "bin_end": 34678.64,
            "count": 0
           },
           {
            "bin_start": 34678.64,
            "bin_end": 39016.32,
            "count": 0
           },
           {
            "bin_start": 39016.32,
            "bin_end": 43354,
            "count": 1
           }
          ]
         }
        },
        {
         "name": "min_temp",
         "dtype": "float64",
         "stats": {
          "unique_count": 8,
          "nan_count": 0,
          "min": "-22.8",
          "max": "43354.0",
          "histogram": [
           {
            "bin_start": -22.8,
            "bin_end": 4314.88,
            "count": 7
           },
           {
            "bin_start": 4314.88,
            "bin_end": 8652.560000000001,
            "count": 0
           },
           {
            "bin_start": 8652.560000000001,
            "bin_end": 12990.240000000002,
            "count": 0
           },
           {
            "bin_start": 12990.240000000002,
            "bin_end": 17327.920000000002,
            "count": 0
           },
           {
            "bin_start": 17327.920000000002,
            "bin_end": 21665.600000000002,
            "count": 0
           },
           {
            "bin_start": 21665.600000000002,
            "bin_end": 26003.280000000002,
            "count": 0
           },
           {
            "bin_start": 26003.280000000002,
            "bin_end": 30340.960000000003,
            "count": 0
           },
           {
            "bin_start": 30340.960000000003,
            "bin_end": 34678.64,
            "count": 0
           },
           {
            "bin_start": 34678.64,
            "bin_end": 39016.32,
            "count": 0
           },
           {
            "bin_start": 39016.32,
            "bin_end": 43354,
            "count": 1
           }
          ]
         }
        },
        {
         "name": "precip",
         "dtype": "float64",
         "stats": {
          "unique_count": 5,
          "nan_count": 0,
          "min": "0.0",
          "max": "43356.0",
          "histogram": [
           {
            "bin_start": 0,
            "bin_end": 4335.6,
            "count": 7
           },
           {
            "bin_start": 4335.6,
            "bin_end": 8671.2,
            "count": 0
           },
           {
            "bin_start": 8671.2,
            "bin_end": 13006.800000000001,
            "count": 0
           },
           {
            "bin_start": 13006.800000000001,
            "bin_end": 17342.4,
            "count": 0
           },
           {
            "bin_start": 17342.4,
            "bin_end": 21678,
            "count": 0
           },
           {
            "bin_start": 21678,
            "bin_end": 26013.600000000002,
            "count": 0
           },
           {
            "bin_start": 26013.600000000002,
            "bin_end": 30349.200000000004,
            "count": 0
           },
           {
            "bin_start": 30349.200000000004,
            "bin_end": 34684.8,
            "count": 0
           },
           {
            "bin_start": 34684.8,
            "bin_end": 39020.4,
            "count": 0
           },
           {
            "bin_start": 39020.4,
            "bin_end": 43356,
            "count": 1
           }
          ]
         }
        },
        {
         "name": "_deepnote_index_column",
         "dtype": "object"
        }
       ],
       "rows_top": [
        {
         "max_temp": 43354,
         "min_temp": 43354,
         "precip": 43356,
         "_deepnote_index_column": "count"
        },
        {
         "max_temp": 11.456716796604697,
         "min_temp": 11.395921944918577,
         "precip": 0.09558077313405296,
         "_deepnote_index_column": "mean"
        },
        {
         "max_temp": 10.118606487201669,
         "min_temp": 10.114095288834976,
         "precip": 0.2940188477476787,
         "_deepnote_index_column": "std"
        },
        {
         "max_temp": -22.8,
         "min_temp": -22.8,
         "precip": 0,
         "_deepnote_index_column": "min"
        },
        {
         "max_temp": 3.3,
         "min_temp": 3.3,
         "precip": 0,
         "_deepnote_index_column": "25%"
        },
        {
         "max_temp": 11.7,
         "min_temp": 11.7,
         "precip": 0,
         "_deepnote_index_column": "50%"
        },
        {
         "max_temp": 20,
         "min_temp": 19.85,
         "precip": 0,
         "_deepnote_index_column": "75%"
        },
        {
         "max_temp": 36.1,
         "min_temp": 36.1,
         "precip": 1,
         "_deepnote_index_column": "max"
        }
       ],
       "rows_bottom": null
      },
      "text/plain": "           max_temp      min_temp        precip\ncount  43354.000000  43354.000000  43356.000000\nmean      11.456717     11.395922      0.095581\nstd       10.118606     10.114095      0.294019\nmin      -22.800000    -22.800000      0.000000\n25%        3.300000      3.300000      0.000000\n50%       11.700000     11.700000      0.000000\n75%       20.000000     19.850000      0.000000\nmax       36.100000     36.100000      1.000000",
      "text/html": "<div>\n<style scoped>\n    .dataframe tbody tr th:only-of-type {\n        vertical-align: middle;\n    }\n\n    .dataframe tbody tr th {\n        vertical-align: top;\n    }\n\n    .dataframe thead th {\n        text-align: right;\n    }\n</style>\n<table border=\"1\" class=\"dataframe\">\n  <thead>\n    <tr style=\"text-align: right;\">\n      <th></th>\n      <th>max_temp</th>\n      <th>min_temp</th>\n      <th>precip</th>\n    </tr>\n  </thead>\n  <tbody>\n    <tr>\n      <th>count</th>\n      <td>43354.000000</td>\n      <td>43354.000000</td>\n      <td>43356.000000</td>\n    </tr>\n    <tr>\n      <th>mean</th>\n      <td>11.456717</td>\n      <td>11.395922</td>\n      <td>0.095581</td>\n    </tr>\n    <tr>\n      <th>std</th>\n      <td>10.118606</td>\n      <td>10.114095</td>\n      <td>0.294019</td>\n    </tr>\n    <tr>\n      <th>min</th>\n      <td>-22.800000</td>\n      <td>-22.800000</td>\n      <td>0.000000</td>\n    </tr>\n    <tr>\n      <th>25%</th>\n      <td>3.300000</td>\n      <td>3.300000</td>\n      <td>0.000000</td>\n    </tr>\n    <tr>\n      <th>50%</th>\n      <td>11.700000</td>\n      <td>11.700000</td>\n      <td>0.000000</td>\n    </tr>\n    <tr>\n      <th>75%</th>\n      <td>20.000000</td>\n      <td>19.850000</td>\n      <td>0.000000</td>\n    </tr>\n    <tr>\n      <th>max</th>\n      <td>36.100000</td>\n      <td>36.100000</td>\n      <td>1.000000</td>\n    </tr>\n  </tbody>\n</table>\n</div>"
     },
     "metadata": {}
    }
   ],
   "execution_count": 2
  },
  {
   "cell_type": "code",
   "source": "weather_file.head(10)",
   "metadata": {
    "tags": [],
    "cell_id": "00004-9a4e82cf-1417-4833-9b1f-90130d12633b",
    "deepnote_to_be_reexecuted": false,
    "source_hash": "7d039b50",
    "execution_start": 1620729624264,
    "execution_millis": 51,
    "deepnote_cell_type": "code"
   },
   "outputs": [
    {
     "output_type": "execute_result",
     "execution_count": 3,
     "data": {
      "application/vnd.deepnote.dataframe.v2+json": {
       "row_count": 10,
       "column_count": 4,
       "columns": [
        {
         "name": "date_time",
         "dtype": "object",
         "stats": {
          "unique_count": 10,
          "nan_count": 0,
          "categories": [
           {
            "name": "2015-01-02 01:00:00",
            "count": 1
           },
           {
            "name": "2015-01-02 02:00:00",
            "count": 1
           },
           {
            "name": "8 others",
            "count": 8
           }
          ]
         }
        },
        {
         "name": "max_temp",
         "dtype": "float64",
         "stats": {
          "unique_count": 4,
          "nan_count": 0,
          "min": "-5.6",
          "max": "-0.6",
          "histogram": [
           {
            "bin_start": -5.6,
            "bin_end": -5.1,
            "count": 4
           },
           {
            "bin_start": -5.1,
            "bin_end": -4.6,
            "count": 0
           },
           {
            "bin_start": -4.6,
            "bin_end": -4.1,
            "count": 1
           },
           {
            "bin_start": -4.1,
            "bin_end": -3.5999999999999996,
            "count": 0
           },
           {
            "bin_start": -3.5999999999999996,
            "bin_end": -3.0999999999999996,
            "count": 0
           },
           {
            "bin_start": -3.0999999999999996,
            "bin_end": -2.5999999999999996,
            "count": 0
           },
           {
            "bin_start": -2.5999999999999996,
            "bin_end": -2.0999999999999996,
            "count": 0
           },
           {
            "bin_start": -2.0999999999999996,
            "bin_end": -1.5999999999999996,
            "count": 0
           },
           {
            "bin_start": -1.5999999999999996,
            "bin_end": -1.0999999999999996,
            "count": 2
           },
           {
            "bin_start": -1.0999999999999996,
            "bin_end": -0.6,
            "count": 3
           }
          ]
         }
        },
        {
         "name": "min_temp",
         "dtype": "float64",
         "stats": {
          "unique_count": 4,
          "nan_count": 0,
          "min": "-5.6",
          "max": "-0.6",
          "histogram": [
           {
            "bin_start": -5.6,
            "bin_end": -5.1,
            "count": 4
           },
           {
            "bin_start": -5.1,
            "bin_end": -4.6,
            "count": 0
           },
           {
            "bin_start": -4.6,
            "bin_end": -4.1,
            "count": 1
           },
           {
            "bin_start": -4.1,
            "bin_end": -3.5999999999999996,
            "count": 0
           },
           {
            "bin_start": -3.5999999999999996,
            "bin_end": -3.0999999999999996,
            "count": 0
           },
           {
            "bin_start": -3.0999999999999996,
            "bin_end": -2.5999999999999996,
            "count": 0
           },
           {
            "bin_start": -2.5999999999999996,
            "bin_end": -2.0999999999999996,
            "count": 0
           },
           {
            "bin_start": -2.0999999999999996,
            "bin_end": -1.5999999999999996,
            "count": 0
           },
           {
            "bin_start": -1.5999999999999996,
            "bin_end": -1.0999999999999996,
            "count": 2
           },
           {
            "bin_start": -1.0999999999999996,
            "bin_end": -0.6,
            "count": 3
           }
          ]
         }
        },
        {
         "name": "precip",
         "dtype": "float64",
         "stats": {
          "unique_count": 1,
          "nan_count": 0,
          "min": "0.0",
          "max": "0.0",
          "histogram": [
           {
            "bin_start": -0.5,
            "bin_end": -0.4,
            "count": 0
           },
           {
            "bin_start": -0.4,
            "bin_end": -0.3,
            "count": 0
           },
           {
            "bin_start": -0.3,
            "bin_end": -0.19999999999999996,
            "count": 0
           },
           {
            "bin_start": -0.19999999999999996,
            "bin_end": -0.09999999999999998,
            "count": 0
           },
           {
            "bin_start": -0.09999999999999998,
            "bin_end": 0,
            "count": 0
           },
           {
            "bin_start": 0,
            "bin_end": 0.10000000000000009,
            "count": 10
           },
           {
            "bin_start": 0.10000000000000009,
            "bin_end": 0.20000000000000007,
            "count": 0
           },
           {
            "bin_start": 0.20000000000000007,
            "bin_end": 0.30000000000000004,
            "count": 0
           },
           {
            "bin_start": 0.30000000000000004,
            "bin_end": 0.4,
            "count": 0
           },
           {
            "bin_start": 0.4,
            "bin_end": 0.5,
            "count": 0
           }
          ]
         }
        },
        {
         "name": "_deepnote_index_column",
         "dtype": "int64"
        }
       ],
       "rows_top": [
        {
         "date_time": "2015-01-02 01:00:00",
         "max_temp": -1.1,
         "min_temp": -1.1,
         "precip": 0,
         "_deepnote_index_column": 0
        },
        {
         "date_time": "2015-01-02 02:00:00",
         "max_temp": -1.1,
         "min_temp": -1.1,
         "precip": 0,
         "_deepnote_index_column": 1
        },
        {
         "date_time": "2015-01-02 03:00:00",
         "max_temp": -0.6,
         "min_temp": -0.6,
         "precip": 0,
         "_deepnote_index_column": 2
        },
        {
         "date_time": "2015-01-02 04:00:00",
         "max_temp": -0.6,
         "min_temp": -0.6,
         "precip": 0,
         "_deepnote_index_column": 3
        },
        {
         "date_time": "2015-01-02 05:00:00",
         "max_temp": -0.6,
         "min_temp": -0.6,
         "precip": 0,
         "_deepnote_index_column": 4
        },
        {
         "date_time": "2015-01-01 06:00:00",
         "max_temp": -5.6,
         "min_temp": -5.6,
         "precip": 0,
         "_deepnote_index_column": 5
        },
        {
         "date_time": "2015-01-01 07:00:00",
         "max_temp": -5.6,
         "min_temp": -5.6,
         "precip": 0,
         "_deepnote_index_column": 6
        },
        {
         "date_time": "2015-01-01 08:00:00",
         "max_temp": -5.6,
         "min_temp": -5.6,
         "precip": 0,
         "_deepnote_index_column": 7
        },
        {
         "date_time": "2015-01-01 09:00:00",
         "max_temp": -4.4,
         "min_temp": -4.4,
         "precip": 0,
         "_deepnote_index_column": 8
        },
        {
         "date_time": "2015-01-01 10:00:00",
         "max_temp": -5.6,
         "min_temp": -5.6,
         "precip": 0,
         "_deepnote_index_column": 9
        }
       ],
       "rows_bottom": null
      },
      "text/plain": "             date_time  max_temp  min_temp  precip\n0  2015-01-02 01:00:00      -1.1      -1.1     0.0\n1  2015-01-02 02:00:00      -1.1      -1.1     0.0\n2  2015-01-02 03:00:00      -0.6      -0.6     0.0\n3  2015-01-02 04:00:00      -0.6      -0.6     0.0\n4  2015-01-02 05:00:00      -0.6      -0.6     0.0\n5  2015-01-01 06:00:00      -5.6      -5.6     0.0\n6  2015-01-01 07:00:00      -5.6      -5.6     0.0\n7  2015-01-01 08:00:00      -5.6      -5.6     0.0\n8  2015-01-01 09:00:00      -4.4      -4.4     0.0\n9  2015-01-01 10:00:00      -5.6      -5.6     0.0",
      "text/html": "<div>\n<style scoped>\n    .dataframe tbody tr th:only-of-type {\n        vertical-align: middle;\n    }\n\n    .dataframe tbody tr th {\n        vertical-align: top;\n    }\n\n    .dataframe thead th {\n        text-align: right;\n    }\n</style>\n<table border=\"1\" class=\"dataframe\">\n  <thead>\n    <tr style=\"text-align: right;\">\n      <th></th>\n      <th>date_time</th>\n      <th>max_temp</th>\n      <th>min_temp</th>\n      <th>precip</th>\n    </tr>\n  </thead>\n  <tbody>\n    <tr>\n      <th>0</th>\n      <td>2015-01-02 01:00:00</td>\n      <td>-1.1</td>\n      <td>-1.1</td>\n      <td>0.0</td>\n    </tr>\n    <tr>\n      <th>1</th>\n      <td>2015-01-02 02:00:00</td>\n      <td>-1.1</td>\n      <td>-1.1</td>\n      <td>0.0</td>\n    </tr>\n    <tr>\n      <th>2</th>\n      <td>2015-01-02 03:00:00</td>\n      <td>-0.6</td>\n      <td>-0.6</td>\n      <td>0.0</td>\n    </tr>\n    <tr>\n      <th>3</th>\n      <td>2015-01-02 04:00:00</td>\n      <td>-0.6</td>\n      <td>-0.6</td>\n      <td>0.0</td>\n    </tr>\n    <tr>\n      <th>4</th>\n      <td>2015-01-02 05:00:00</td>\n      <td>-0.6</td>\n      <td>-0.6</td>\n      <td>0.0</td>\n    </tr>\n    <tr>\n      <th>5</th>\n      <td>2015-01-01 06:00:00</td>\n      <td>-5.6</td>\n      <td>-5.6</td>\n      <td>0.0</td>\n    </tr>\n    <tr>\n      <th>6</th>\n      <td>2015-01-01 07:00:00</td>\n      <td>-5.6</td>\n      <td>-5.6</td>\n      <td>0.0</td>\n    </tr>\n    <tr>\n      <th>7</th>\n      <td>2015-01-01 08:00:00</td>\n      <td>-5.6</td>\n      <td>-5.6</td>\n      <td>0.0</td>\n    </tr>\n    <tr>\n      <th>8</th>\n      <td>2015-01-01 09:00:00</td>\n      <td>-4.4</td>\n      <td>-4.4</td>\n      <td>0.0</td>\n    </tr>\n    <tr>\n      <th>9</th>\n      <td>2015-01-01 10:00:00</td>\n      <td>-5.6</td>\n      <td>-5.6</td>\n      <td>0.0</td>\n    </tr>\n  </tbody>\n</table>\n</div>"
     },
     "metadata": {}
    }
   ],
   "execution_count": 3
  },
  {
   "cell_type": "code",
   "source": "weather_file.info()\nweather_file.dropna(how='all', axis=0)\nweather_file.info()\n\n\n\nprint(weather_file)\n\n\nweather_file.dropna()\nprint(weather_file)",
   "metadata": {
    "tags": [],
    "cell_id": "00005-ccbce430-d458-4459-a6f7-c1bc8c4aeed0",
    "deepnote_to_be_reexecuted": false,
    "source_hash": "64c42cd0",
    "execution_start": 1620729624311,
    "execution_millis": 19,
    "deepnote_cell_type": "code"
   },
   "outputs": [
    {
     "name": "stdout",
     "text": "<class 'pandas.core.frame.DataFrame'>\nRangeIndex: 43848 entries, 0 to 43847\nData columns (total 4 columns):\n #   Column     Non-Null Count  Dtype  \n---  ------     --------------  -----  \n 0   date_time  43354 non-null  object \n 1   max_temp   43354 non-null  float64\n 2   min_temp   43354 non-null  float64\n 3   precip     43356 non-null  float64\ndtypes: float64(3), object(1)\nmemory usage: 1.3+ MB\n<class 'pandas.core.frame.DataFrame'>\nRangeIndex: 43848 entries, 0 to 43847\nData columns (total 4 columns):\n #   Column     Non-Null Count  Dtype  \n---  ------     --------------  -----  \n 0   date_time  43354 non-null  object \n 1   max_temp   43354 non-null  float64\n 2   min_temp   43354 non-null  float64\n 3   precip     43356 non-null  float64\ndtypes: float64(3), object(1)\nmemory usage: 1.3+ MB\n                 date_time  max_temp  min_temp  precip\n0      2015-01-02 01:00:00      -1.1      -1.1     0.0\n1      2015-01-02 02:00:00      -1.1      -1.1     0.0\n2      2015-01-02 03:00:00      -0.6      -0.6     0.0\n3      2015-01-02 04:00:00      -0.6      -0.6     0.0\n4      2015-01-02 05:00:00      -0.6      -0.6     0.0\n...                    ...       ...       ...     ...\n43843  2020-01-01 20:00:00       5.0       5.0     0.0\n43844  2020-01-01 21:00:00       4.4       4.4     0.0\n43845  2020-01-01 22:00:00       4.4       4.4     0.0\n43846  2020-01-01 23:00:00       3.9       3.9     0.0\n43847  2020-01-02 00:00:00       3.3       3.3     0.0\n\n[43848 rows x 4 columns]\n                 date_time  max_temp  min_temp  precip\n0      2015-01-02 01:00:00      -1.1      -1.1     0.0\n1      2015-01-02 02:00:00      -1.1      -1.1     0.0\n2      2015-01-02 03:00:00      -0.6      -0.6     0.0\n3      2015-01-02 04:00:00      -0.6      -0.6     0.0\n4      2015-01-02 05:00:00      -0.6      -0.6     0.0\n...                    ...       ...       ...     ...\n43843  2020-01-01 20:00:00       5.0       5.0     0.0\n43844  2020-01-01 21:00:00       4.4       4.4     0.0\n43845  2020-01-01 22:00:00       4.4       4.4     0.0\n43846  2020-01-01 23:00:00       3.9       3.9     0.0\n43847  2020-01-02 00:00:00       3.3       3.3     0.0\n\n[43848 rows x 4 columns]\n",
     "output_type": "stream"
    }
   ],
   "execution_count": 4
  },
  {
   "cell_type": "code",
   "source": "print(len(weather_file))\nlen(weather_file)-len(weather_file.dropna())",
   "metadata": {
    "tags": [],
    "cell_id": "00006-00bbdcea-d38d-4f97-a8f4-26044c12aaee",
    "deepnote_to_be_reexecuted": false,
    "source_hash": "d6382225",
    "execution_start": 1620729624337,
    "execution_millis": 11,
    "deepnote_cell_type": "code"
   },
   "outputs": [
    {
     "name": "stdout",
     "text": "43848\n",
     "output_type": "stream"
    },
    {
     "output_type": "execute_result",
     "execution_count": 5,
     "data": {
      "text/plain": "494"
     },
     "metadata": {}
    }
   ],
   "execution_count": 5
  },
  {
   "cell_type": "code",
   "source": "weather_file.info()\ncleared_weather = weather_file.dropna()\ncleared_weather.info()\n\nprint(\"len weatherfile\")\nprint(len(weather_file))\nprint(\"len clear\")\nprint(len(cleared_weather))",
   "metadata": {
    "tags": [],
    "cell_id": "00006-ec854b02-8f09-4cae-80e7-3254afff73e6",
    "deepnote_to_be_reexecuted": false,
    "source_hash": "43a9a069",
    "execution_start": 1620729624394,
    "execution_millis": 5,
    "deepnote_cell_type": "code"
   },
   "outputs": [
    {
     "name": "stdout",
     "text": "<class 'pandas.core.frame.DataFrame'>\nRangeIndex: 43848 entries, 0 to 43847\nData columns (total 4 columns):\n #   Column     Non-Null Count  Dtype  \n---  ------     --------------  -----  \n 0   date_time  43354 non-null  object \n 1   max_temp   43354 non-null  float64\n 2   min_temp   43354 non-null  float64\n 3   precip     43356 non-null  float64\ndtypes: float64(3), object(1)\nmemory usage: 1.3+ MB\n<class 'pandas.core.frame.DataFrame'>\nInt64Index: 43354 entries, 0 to 43847\nData columns (total 4 columns):\n #   Column     Non-Null Count  Dtype  \n---  ------     --------------  -----  \n 0   date_time  43354 non-null  object \n 1   max_temp   43354 non-null  float64\n 2   min_temp   43354 non-null  float64\n 3   precip     43354 non-null  float64\ndtypes: float64(3), object(1)\nmemory usage: 1.7+ MB\nlen weatherfile\n43848\nlen clear\n43354\n",
     "output_type": "stream"
    }
   ],
   "execution_count": 6
  },
  {
   "cell_type": "markdown",
   "source": "<a style='text-decoration:none;line-height:16px;display:flex;color:#5B5B62;padding:10px;justify-content:end;' href='https://deepnote.com?utm_source=created-in-deepnote-cell&projectId=35506763-73aa-4d62-b6fa-1d5cc17021c1' target=\"_blank\">\n<img alt='Created in deepnote.com' style='display:inline;max-height:16px;margin:0px;margin-right:7.5px;' src='data:image/svg+xml;base64,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' > </img>\nCreated in <span style='font-weight:600;margin-left:4px;'>Deepnote</span></a>",
   "metadata": {
    "tags": [],
    "created_in_deepnote_cell": true,
    "deepnote_cell_type": "markdown"
   }
  }
 ],
 "nbformat": 4,
 "nbformat_minor": 4,
 "metadata": {
  "kernelspec": {
   "display_name": "Python 3",
   "language": "python",
   "name": "python3"
  },
  "language_info": {
   "codemirror_mode": {
    "name": "ipython",
    "version": 3
   },
   "file_extension": ".py",
   "mimetype": "text/x-python",
   "name": "python",
   "nbconvert_exporter": "python",
   "pygments_lexer": "ipython3",
   "version": "3.8.5"
  },
  "deepnote_notebook_id": "b42370f8-7f54-478e-9473-6dab85147bb1",
  "deepnote": {},
  "deepnote_execution_queue": []
 }
}